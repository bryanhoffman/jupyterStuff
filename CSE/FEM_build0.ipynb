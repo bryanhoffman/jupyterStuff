{
 "cells": [
  {
   "cell_type": "code",
   "execution_count": 4,
   "metadata": {
    "collapsed": true
   },
   "outputs": [],
   "source": [
    "import sympy as sp\n",
    "import numpy as np\n",
    "import matplotlib.pyplot as plt"
   ]
  },
  {
   "cell_type": "code",
   "execution_count": 12,
   "metadata": {
    "collapsed": true
   },
   "outputs": [],
   "source": [
    "class FEMBasis(object):\n",
    "    \"\"\"This is gonna be my class for all the basis functions\"\"\"\n",
    "    def __init__(this, x, N):\n",
    "        \"\"\"Takes a sympy symbol and the 1-D Mesh size, higher dimensions can be created via Kronecker delta product\"\"\"\n",
    "        if isinstance(x, sp.Symbol):\n",
    "            h = sp.Rational(1, N-1)\n",
    "        else:\n",
    "            h = 1.0/(N-1)\n",
    "        this.points = [i*h for i in range(N)]\n",
    "        this.psi = [this.Lagrange_polynomial(x, i, this.points) for i in range(N)]\n",
    "\n",
    "        \n",
    "    def Lagrange_polynomial(this, x, i, points):\n",
    "        p = 1\n",
    "        for k in range(len(points)):\n",
    "            if k != i:\n",
    "                p *= (x - points[k])/(points[i] - points[k])\n",
    "        return p"
   ]
  },
  {
   "cell_type": "code",
   "execution_count": 14,
   "metadata": {},
   "outputs": [],
   "source": [
    "x = sp.symbols('x')\n",
    "myFEM = FEMBasis(x,5)"
   ]
  },
  {
   "cell_type": "code",
   "execution_count": 19,
   "metadata": {},
   "outputs": [
    {
     "data": {
      "image/png": "[encoded data removed]",
      "text/plain": [
       "<matplotlib.figure.Figure at 0x7f9997a8db70>"
      ]
     },
     "metadata": {},
     "output_type": "display_data"
    }
   ],
   "source": [
    "from sympy import lambdify\n",
    "x_i = np.linspace(0,1,100)\n",
    "lam_x = lambdify(x, myFEM.psi[3], modules=['numpy']) ##plot of psi_4\n",
    "plt.plot(x_i,lam_x(x_i))\n",
    "plt.show()"
   ]
  },
  {
   "cell_type": "code",
   "execution_count": 23,
   "metadata": {},
   "outputs": [],
   "source": [
    "def integrate(f,a,b,N):\n",
    "    \"\"\"integrates f using Chebyshev-Gauss Quadrature\"\"\"\n",
    "    xi = np.cos(np.pi*(1-np.linspace(0,1,N+1))) ## [-1,1] Chebyshev points\n",
    "    wi = np.pi/N*(1-xi**2)**0.5 ## weights\n",
    "    xi = a+(b-a)*(xi+1.0)/2.0 ## mapping to interval [a,b]\n",
    "    wi*=(b-a)/2.0 ## adjusting weights to reflect mapped domain\n",
    "    return(sum(wi*f(xi)))\n",
    "\n",
    "def innerproduct(f,g,a,b,N):\n",
    "    \"\"\"inner product of two functions\"\"\"\n",
    "    return(integrate(lambda x: f(x)*g(x),a,b,N))\n",
    "\n",
    "lam_x = [] ## convert all them sympy expressions into sweet organic lambdas\n",
    "for i in range(0,len(myFEM.psi)):\n",
    "    lam_x.append(lambdify(x, myFEM.psi[i], modules=['numpy']))\n",
    "    \n",
    "\n",
    "A = []    \n",
    "for i in range(0,len(lam_x)):\n",
    "    \"\"\"this makes the Matrix A\"\"\"\n",
    "    row = []\n",
    "    for j in range (0,len(lam_x)):\n",
    "        row.append(innerproduct(lam_x[i],lam_x[j],0,1,100))\n",
    "    A.append(row)"
   ]
  },
  {
   "cell_type": "code",
   "execution_count": 24,
   "metadata": {},
   "outputs": [
    {
     "data": {
      "text/plain": [
       "[[0.05145797721037703,\n",
       "  0.052204601799516158,\n",
       "  -0.030687842887856288,\n",
       "  0.0098765486338112784,\n",
       "  -0.0051146404813093771],\n",
       " [0.052204601799516158,\n",
       "  0.31604938268204502,\n",
       "  -0.067724867694247001,\n",
       "  0.045149911796164614,\n",
       "  0.0098765486338112645],\n",
       " [-0.030687842887856288,\n",
       "  -0.067724867694247001,\n",
       "  0.33015873012426999,\n",
       "  -0.067724867694247029,\n",
       "  -0.030687842887856257],\n",
       " [0.0098765486338112784,\n",
       "  0.045149911796164614,\n",
       "  -0.067724867694247029,\n",
       "  0.31604938268204519,\n",
       "  0.052204601799516179],\n",
       " [-0.0051146404813093771,\n",
       "  0.0098765486338112645,\n",
       "  -0.030687842887856257,\n",
       "  0.052204601799516179,\n",
       "  0.051457977210377037]]"
      ]
     },
     "execution_count": 24,
     "metadata": {},
     "output_type": "execute_result"
    }
   ],
   "source": [
    "A"
   ]
  },
  {
   "cell_type": "markdown",
   "metadata": {},
   "source": [
    "Okay y'all I've had like four cups of coffee and it's 10:24 PM and woowee should I have another? But this is coming along, this is really nice actually. I'm thinking, sympy makes it really easy to do differentiation of a function and then I can bring in the lambdify again and make my set of phi's and d(phi's) as lambda's and then voila we got working FEM code! Also, I'm suddenly so aware of my need to learn LaTeX holy cow."
   ]
  },
  {
   "cell_type": "code",
   "execution_count": 26,
   "metadata": {},
   "outputs": [
    {
     "data": {
      "image/png": "[encoded data removed]",
      "text/plain": [
       "<matplotlib.figure.Figure at 0x7f999591fcf8>"
      ]
     },
     "metadata": {},
     "output_type": "display_data"
    }
   ],
   "source": [
    "x_i = np.linspace(0,1,100)\n",
    "lam_x = lambdify(x, sp.diff(myFEM.psi[3]), modules=['numpy']) ##plot of psi_4\n",
    "plt.plot(x_i,lam_x(x_i))\n",
    "plt.show()"
   ]
  },
  {
   "cell_type": "code",
   "execution_count": null,
   "metadata": {
    "collapsed": true
   },
   "outputs": [],
   "source": []
  }
 ],
 "metadata": {
  "kernelspec": {
   "display_name": "Python 3",
   "language": "python",
   "name": "python3"
  },
  "language_info": {
   "codemirror_mode": {
    "name": "ipython",
    "version": 3
   },
   "file_extension": ".py",
   "mimetype": "text/x-python",
   "name": "python",
   "nbconvert_exporter": "python",
   "pygments_lexer": "ipython3",
   "version": "3.5.2"
  }
 },
 "nbformat": 4,
 "nbformat_minor": 2
}

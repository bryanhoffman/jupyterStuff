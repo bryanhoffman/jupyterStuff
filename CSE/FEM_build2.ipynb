{
 "cells": [
  {
   "cell_type": "code",
   "execution_count": 76,
   "metadata": {
    "collapsed": true
   },
   "outputs": [],
   "source": [
    "import sympy as sp\n",
    "from sympy import lambdify\n",
    "import numpy as np\n",
    "import matplotlib.pyplot as plt\n",
    "\n",
    "class FEMBasis(object):\n",
    "    \"\"\"This is gonna be my class for all the basis functions\"\"\"\n",
    "    def __init__(this, x, N):\n",
    "        \"\"\"Takes a sympy symbol and the 1-D Mesh size, higher dimensions can be created via Kronecker delta product\"\"\"\n",
    "        if isinstance(x, sp.Symbol):\n",
    "            h = sp.Rational(1, N-1)\n",
    "        else:\n",
    "            h = 1.0/(N-1)\n",
    "        this.h = 1.0/(N-1)\n",
    "        this.points = [i*h for i in range(N)]\n",
    "        this.psi = [this.Lagrange_polynomial(x, i, this.points) for i in range(N)]\n",
    "        this.lam_psi = [] ## convert all them sympy expressions into sweet organic lambdas\n",
    "        for i in range(0,len(this.psi)):\n",
    "            this.lam_psi.append(lambdify(x, this.psi[i], modules=['numpy']))\n",
    "        this.lam_dpsi = [] ## again but the derivatives\n",
    "        for i in range(0,len(this.psi)):\n",
    "            this.lam_dpsi.append(lambdify(x, sp.diff(this.psi[i]), modules=['numpy']))\n",
    "\n",
    "\n",
    "        \n",
    "    def Lagrange_polynomial(this, x, i, points):\n",
    "        \"\"\"Makes the Lagrange polynomial specified\"\"\"\n",
    "        p = 1\n",
    "        for k in range(len(points)):\n",
    "            if k != i:\n",
    "                p *= (x - points[k])/(points[i] - points[k])\n",
    "        return p\n",
    "    \n",
    "    def integrate(this,f,a,b,N):\n",
    "        \"\"\"integrates f using Chebyshev-Gauss Quadrature\"\"\"\n",
    "        xi = np.cos(np.pi*(1-np.linspace(0,1,N+1))) ## [-1,1] Chebyshev points\n",
    "        wi = np.pi/N*(1-xi**2)**0.5 ## weights\n",
    "        xi = a+(b-a)*(xi+1.0)/2.0 ## mapping to interval [a,b]\n",
    "        wi*=(b-a)/2.0 ## adjusting weights to reflect mapped domain\n",
    "        return(sum(wi*f(xi)))\n",
    "\n",
    "    def innerproduct(this,f,g,a,b,N):\n",
    "        \"\"\"inner product of two functions f & g\"\"\"\n",
    "        return(this.integrate(lambda x: f(x)*g(x),a,b,N))\n",
    "    \n",
    "    def makeA(this):\n",
    "        \"\"\"integrate psi_i psi_j\"\"\"\n",
    "        this.A = []    \n",
    "        for i in range(0,len(this.lam_psi)):\n",
    "            row = []\n",
    "            for j in range (0,len(this.lam_psi)):\n",
    "                row.append(this.innerproduct(this.lam_psi[i],this.lam_psi[j],0,1,100))\n",
    "            this.A.append(row)\n",
    "                        \n",
    "    def makeU(this):\n",
    "        \"\"\"integrate psi_i dpsi_j\"\"\"\n",
    "        this.K = []    \n",
    "        for i in range(0,len(this.lam_psi)):\n",
    "            row = []\n",
    "            for j in range (0,len(this.lam_dpsi)):\n",
    "                row.append(this.innerproduct(this.lam_psi[i],this.lam_dpsi[j],0,1,100))\n",
    "            this.K.append(row)       \n",
    "            \n",
    "    def makeK(this):\n",
    "        \"\"\"integrate dpsi_i dpsi_j\"\"\"\n",
    "        this.K = []    \n",
    "        for i in range(0,len(this.lam_dpsi)):\n",
    "            row = []\n",
    "            for j in range (0,len(this.lam_dpsi)):\n",
    "                row.append(this.innerproduct(this.lam_dpsi[i],this.lam_dpsi[j],0,1,100))\n",
    "            this.K.append(row)\n",
    "            \n",
    "    def makeVecB(this, f):\n",
    "        \"\"\"integrate psi_i f for given f\"\"\"  \n",
    "        this.vecB = []\n",
    "        for i in range(0,len(this.lam_psi)):\n",
    "            this.vecB.append(this.innerproduct(this.lam_psi[i],f,0,1,100))"
   ]
  },
  {
   "cell_type": "code",
   "execution_count": 85,
   "metadata": {},
   "outputs": [],
   "source": [
    "x = sp.symbols('x')\n",
    "myFEM = FEMBasis(x,5)"
   ]
  },
  {
   "cell_type": "code",
   "execution_count": 104,
   "metadata": {},
   "outputs": [],
   "source": [
    "myFEM.makeVecB(lambda x: x**2)"
   ]
  },
  {
   "cell_type": "code",
   "execution_count": 105,
   "metadata": {},
   "outputs": [],
   "source": [
    "myFEM.makeA()\n",
    "myFEM.makeK()"
   ]
  },
  {
   "cell_type": "code",
   "execution_count": 106,
   "metadata": {},
   "outputs": [
    {
     "data": {
      "text/plain": [
       "array([ 0.00324707,  0.02166304, -0.01619762,  0.07311339,  0.01516982])"
      ]
     },
     "execution_count": 106,
     "metadata": {},
     "output_type": "execute_result"
    }
   ],
   "source": [
    "np.dot(myFEM.A,myFEM.vecB) "
   ]
  },
  {
   "cell_type": "code",
   "execution_count": 107,
   "metadata": {},
   "outputs": [
    {
     "data": {
      "image/png": "[encoded data removed]",
      "text/plain": [
       "<matplotlib.figure.Figure at 0x7fe23923cf98>"
      ]
     },
     "metadata": {},
     "output_type": "display_data"
    }
   ],
   "source": [
    "u = np.dot(np.linalg.inv(myFEM.K), np.dot(myFEM.A,myFEM.vecB) )\n",
    "u\n",
    "\n",
    "myF = lambda x: u[0]*myFEM.lam_psi[0](x)+u[1]*myFEM.lam_psi[1](x)+u[2]*myFEM.lam_psi[2](x)+u[3]*myFEM.lam_psi[3](x)+u[4]*myFEM.lam_psi[4](x)\n",
    "x_i = np.linspace(0,1,100)\n",
    "plt.plot(x_i,myF(x_i))\n",
    "plt.show()"
   ]
  },
  {
   "cell_type": "code",
   "execution_count": 103,
   "metadata": {},
   "outputs": [
    {
     "ename": "ValueError",
     "evalue": "shapes (5,5) and (10,10) not aligned: 5 (dim 1) != 10 (dim 0)",
     "output_type": "error",
     "traceback": [
      "\u001b[0;31m---------------------------------------------------------------------------\u001b[0m",
      "\u001b[0;31mValueError\u001b[0m                                Traceback (most recent call last)",
      "\u001b[0;32m<ipython-input-103-1689bffbf47c>\u001b[0m in \u001b[0;36m<module>\u001b[0;34m()\u001b[0m\n\u001b[1;32m      3\u001b[0m \u001b[0mdiag\u001b[0m\u001b[0;34m[\u001b[0m\u001b[0mlen\u001b[0m\u001b[0;34m(\u001b[0m\u001b[0mdiag\u001b[0m\u001b[0;34m)\u001b[0m\u001b[0;34m-\u001b[0m\u001b[0;36m1\u001b[0m\u001b[0;34m]\u001b[0m \u001b[0;34m=\u001b[0m \u001b[0;36m0\u001b[0m\u001b[0;34m\u001b[0m\u001b[0m\n\u001b[1;32m      4\u001b[0m \u001b[0mdiag\u001b[0m\u001b[0;34m\u001b[0m\u001b[0m\n\u001b[0;32m----> 5\u001b[0;31m \u001b[0mnp\u001b[0m\u001b[0;34m.\u001b[0m\u001b[0mdot\u001b[0m\u001b[0;34m(\u001b[0m\u001b[0mmyFEM\u001b[0m\u001b[0;34m.\u001b[0m\u001b[0mK\u001b[0m\u001b[0;34m,\u001b[0m\u001b[0mnp\u001b[0m\u001b[0;34m.\u001b[0m\u001b[0mdiag\u001b[0m\u001b[0;34m(\u001b[0m\u001b[0mdiag\u001b[0m\u001b[0;34m)\u001b[0m\u001b[0;34m)\u001b[0m\u001b[0;34m\u001b[0m\u001b[0m\n\u001b[0m",
      "\u001b[0;31mValueError\u001b[0m: shapes (5,5) and (10,10) not aligned: 5 (dim 1) != 10 (dim 0)"
     ]
    }
   ],
   "source": [
    "diag = np.ones(10)\n",
    "diag[0] = 0\n",
    "diag[len(diag)-1] = 0\n",
    "diag\n",
    "np.dot(myFEM.K,np.diag(diag))"
   ]
  },
  {
   "cell_type": "code",
   "execution_count": 81,
   "metadata": {},
   "outputs": [],
   "source": [
    "u = np.dot(np.linalg.inv(myFEM.A), npmyFEM.vecB) "
   ]
  },
  {
   "cell_type": "code",
   "execution_count": 82,
   "metadata": {},
   "outputs": [
    {
     "data": {
      "text/plain": [
       "array([  5.88418203e-15,   1.23456790e-02,   4.93827160e-02,\n",
       "         1.11111111e-01,   1.97530864e-01,   3.08641975e-01,\n",
       "         4.44444444e-01,   6.04938272e-01,   7.90123457e-01,\n",
       "         1.00000000e+00])"
      ]
     },
     "execution_count": 82,
     "metadata": {},
     "output_type": "execute_result"
    }
   ],
   "source": [
    "u"
   ]
  },
  {
   "cell_type": "code",
   "execution_count": 83,
   "metadata": {
    "collapsed": true
   },
   "outputs": [],
   "source": [
    "sqr = [(0.1*x)**2 for x in range(1,11)]"
   ]
  },
  {
   "cell_type": "code",
   "execution_count": 84,
   "metadata": {},
   "outputs": [
    {
     "data": {
      "text/plain": [
       "[0.010000000000000002,\n",
       " 0.04000000000000001,\n",
       " 0.09000000000000002,\n",
       " 0.16000000000000003,\n",
       " 0.25,\n",
       " 0.3600000000000001,\n",
       " 0.4900000000000001,\n",
       " 0.6400000000000001,\n",
       " 0.81,\n",
       " 1.0]"
      ]
     },
     "execution_count": 84,
     "metadata": {},
     "output_type": "execute_result"
    }
   ],
   "source": [
    "sqr"
   ]
  },
  {
   "cell_type": "code",
   "execution_count": null,
   "metadata": {
    "collapsed": true
   },
   "outputs": [],
   "source": []
  }
 ],
 "metadata": {
  "kernelspec": {
   "display_name": "Python 3",
   "language": "python",
   "name": "python3"
  },
  "language_info": {
   "codemirror_mode": {
    "name": "ipython",
    "version": 3
   },
   "file_extension": ".py",
   "mimetype": "text/x-python",
   "name": "python",
   "nbconvert_exporter": "python",
   "pygments_lexer": "ipython3",
   "version": "3.5.2"
  }
 },
 "nbformat": 4,
 "nbformat_minor": 2
}

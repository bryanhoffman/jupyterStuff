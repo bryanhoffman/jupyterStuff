{
 "cells": [
  {
   "cell_type": "code",
   "execution_count": 1,
   "metadata": {
    "collapsed": true
   },
   "outputs": [],
   "source": [
    "import numpy as np\n",
    "def integrate(f,a,b,N):\n",
    "    \"\"\"integrates f using Chebyshev-Gauss Quadrature\"\"\"\n",
    "    xi = np.cos(np.pi*(1-np.linspace(0,1,N+1))) ## [-1,1] Chebyshev points\n",
    "    wi = np.pi/N*(1-xi**2)**0.5 ## weights\n",
    "    xi = a+(b-a)*(xi+1.0)/2.0 ## mapping to interval [a,b]\n",
    "    wi*=(b-a)/2.0 ## adjusting weights to reflect mapped domain\n",
    "    return(sum(wi*f(xi)))"
   ]
  },
  {
   "cell_type": "code",
   "execution_count": 2,
   "metadata": {
    "collapsed": true
   },
   "outputs": [],
   "source": [
    "def innerproduct(f,g,a,b,N):\n",
    "    return(integrate(lambda x: f(x)*g(x),a,b,N))"
   ]
  },
  {
   "cell_type": "code",
   "execution_count": 14,
   "metadata": {},
   "outputs": [],
   "source": [
    "## I need to learn Sympy"
   ]
  },
  {
   "cell_type": "code",
   "execution_count": 22,
   "metadata": {},
   "outputs": [],
   "source": [
    "functions = [\n",
    "    lambda x: 1,\n",
    "    lambda x: x,\n",
    "    lambda x: x**2,\n",
    "    lambda x: x**3\n",
    "            ]\n",
    "A = []\n",
    "for i in range(0,len(functions)):\n",
    "\n",
    "    row = []\n",
    "    for j in range (0,len(functions)):\n",
    "        row.append(innerproduct(functions[i],functions[j],0,1,100))\n",
    "    A.append(row)\n"
   ]
  },
  {
   "cell_type": "code",
   "execution_count": 23,
   "metadata": {},
   "outputs": [
    {
     "data": {
      "text/plain": [
       "[[0.99991775194372168,\n",
       "  0.49995887597186089,\n",
       "  0.33329220727536107,\n",
       "  0.24995887292711128],\n",
       " [0.49995887597186089,\n",
       "  0.33329220727536107,\n",
       "  0.24995887292711128,\n",
       "  0.1999588719119561],\n",
       " [0.33329220727536107,\n",
       "  0.24995887292711128,\n",
       "  0.1999588719119561,\n",
       "  0.16662553756334827],\n",
       " [0.24995887292711128,\n",
       "  0.1999588719119561,\n",
       "  0.16662553756334827,\n",
       "  0.14281601273843061]]"
      ]
     },
     "execution_count": 23,
     "metadata": {},
     "output_type": "execute_result"
    }
   ],
   "source": [
    "A"
   ]
  },
  {
   "cell_type": "code",
   "execution_count": 24,
   "metadata": {},
   "outputs": [],
   "source": [
    "## Galerkin on exp[x]\n",
    "\n",
    "b = []\n",
    "for i in range(0,len(functions)):\n",
    "    b.append(innerproduct(functions[i],lambda x: np.exp(x) ,0,1,100))"
   ]
  },
  {
   "cell_type": "code",
   "execution_count": 25,
   "metadata": {},
   "outputs": [
    {
     "data": {
      "text/plain": [
       "[1.7181289159885733,\n",
       " 0.99988820879877849,\n",
       " 0.71817003348387243,\n",
       " 0.56332454534737841]"
      ]
     },
     "execution_count": 25,
     "metadata": {},
     "output_type": "execute_result"
    }
   ],
   "source": [
    "b"
   ]
  },
  {
   "cell_type": "code",
   "execution_count": 28,
   "metadata": {
    "collapsed": true
   },
   "outputs": [],
   "source": [
    "c = np.dot(np.linalg.inv(A), b) "
   ]
  },
  {
   "cell_type": "code",
   "execution_count": 30,
   "metadata": {},
   "outputs": [
    {
     "data": {
      "text/plain": [
       "array([ 0.99905961,  1.01830217,  0.4212448 ,  0.27862448])"
      ]
     },
     "execution_count": 30,
     "metadata": {},
     "output_type": "execute_result"
    }
   ],
   "source": [
    "c"
   ]
  },
  {
   "cell_type": "code",
   "execution_count": 31,
   "metadata": {},
   "outputs": [
    {
     "data": {
      "image/png": "[encoded data removed]",
      "text/plain": [
       "<matplotlib.figure.Figure at 0x7f04ad2ac978>"
      ]
     },
     "metadata": {},
     "output_type": "display_data"
    }
   ],
   "source": [
    "import matplotlib.pyplot as plt\n",
    "domain = np.linspace(0,3,100)\n",
    "exp = np.exp(domain)\n",
    "myF = lambda x: c[0]+c[1]*x+c[2]*x**2+c[3]*x**3\n",
    "plt.plot(domain,exp)\n",
    "plt.plot(domain,myF(domain))\n",
    "plt.show()"
   ]
  },
  {
   "cell_type": "code",
   "execution_count": null,
   "metadata": {
    "collapsed": true
   },
   "outputs": [],
   "source": []
  }
 ],
 "metadata": {
  "kernelspec": {
   "display_name": "Python 3",
   "language": "python",
   "name": "python3"
  },
  "language_info": {
   "codemirror_mode": {
    "name": "ipython",
    "version": 3
   },
   "file_extension": ".py",
   "mimetype": "text/x-python",
   "name": "python",
   "nbconvert_exporter": "python",
   "pygments_lexer": "ipython3",
   "version": "3.5.2"
  }
 },
 "nbformat": 4,
 "nbformat_minor": 2
}

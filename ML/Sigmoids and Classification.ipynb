{
 "cells": [
  {
   "cell_type": "markdown",
   "metadata": {},
   "source": [
    "Sigmoids are cool!"
   ]
  },
  {
   "cell_type": "code",
   "execution_count": 98,
   "metadata": {},
   "outputs": [
    {
     "data": {
      "image/png": "[encoded data removed]",
      "text/plain": [
       "<matplotlib.figure.Figure at 0x7f7a6c2447b8>"
      ]
     },
     "metadata": {},
     "output_type": "display_data"
    }
   ],
   "source": [
    "import numpy as np\n",
    "import matplotlib.pyplot as plt\n",
    "\n",
    "x=np.linspace(-5,5,100)\n",
    "g=1.0/(1+np.power(np.e,-x))\n",
    "\n",
    "plt.plot(x,g)\n",
    "plt.show()"
   ]
  },
  {
   "cell_type": "markdown",
   "metadata": {},
   "source": [
    "That's the beautiful curve of a sigmoid! As the x-value increases the y-value assymptotically approaches 1, and as the x-value decreases, the y-value approaches 0. If 1 represents 'yes' and 0 represents 'no' it's almost as if we can pose questions to our sigmoid overlords! Word on the street is ReLU is better these days... but I wouldn't know nothin' 'bout that.\n",
    "\n",
    "Let's generate some 0's and some 1's!"
   ]
  },
  {
   "cell_type": "code",
   "execution_count": 99,
   "metadata": {},
   "outputs": [
    {
     "data": {
      "image/png": "[encoded data removed]",
      "text/plain": [
       "<matplotlib.figure.Figure at 0x7f7a6c243470>"
      ]
     },
     "metadata": {},
     "output_type": "display_data"
    }
   ],
   "source": [
    "my0x = []\n",
    "my0y = []\n",
    "my1x = []\n",
    "my1y = []\n",
    "\n",
    "for i in range(400):\n",
    "    x = np.random.random()\n",
    "    y = np.random.random()\n",
    "    if(x**2+y**2 < 1):\n",
    "        my0x.append(x)\n",
    "        my0y.append(y)\n",
    "    else:\n",
    "        my1x.append(x)\n",
    "        my1y.append(y)\n",
    "        \n",
    "plt.scatter(my0x,my0y)\n",
    "plt.scatter(my1x,my1y)\n",
    "plt.show()"
   ]
  },
  {
   "cell_type": "code",
   "execution_count": 100,
   "metadata": {},
   "outputs": [
    {
     "data": {
      "text/plain": [
       "306"
      ]
     },
     "execution_count": 100,
     "metadata": {},
     "output_type": "execute_result"
    }
   ],
   "source": [
    "len(my0x)"
   ]
  },
  {
   "cell_type": "code",
   "execution_count": 101,
   "metadata": {},
   "outputs": [
    {
     "data": {
      "text/plain": [
       "(400, 3)"
      ]
     },
     "execution_count": 101,
     "metadata": {},
     "output_type": "execute_result"
    }
   ],
   "source": [
    "## here we build X\n",
    "myVec1=[]\n",
    "myVec2=[]\n",
    "\n",
    "for i in range(0,len(my0x)):\n",
    "    myVec1.append(my0x[i])\n",
    "    myVec2.append(my0y[i])\n",
    "\n",
    "for i in range(0,len(my1x)):\n",
    "    myVec1.append(my1x[i])\n",
    "    myVec2.append(my1y[i])\n",
    "\n",
    "X=np.matrix([np.ones(len(my0x)+len(my1x)),myVec1,myVec2]).T\n",
    "X.shape"
   ]
  },
  {
   "cell_type": "code",
   "execution_count": 102,
   "metadata": {},
   "outputs": [
    {
     "data": {
      "text/plain": [
       "(400, 1)"
      ]
     },
     "execution_count": 102,
     "metadata": {},
     "output_type": "execute_result"
    }
   ],
   "source": [
    "## Here we build y\n",
    "y=[]\n",
    "for i in range(0,len(my0x)):\n",
    "    y.append(0)\n",
    "\n",
    "for i in range(0,len(my1x)):\n",
    "    y.append(1)\n",
    "\n",
    "y=np.matrix(y).T\n",
    "y.shape"
   ]
  },
  {
   "cell_type": "code",
   "execution_count": 103,
   "metadata": {},
   "outputs": [
    {
     "data": {
      "text/plain": [
       "(1, 3)"
      ]
     },
     "execution_count": 103,
     "metadata": {},
     "output_type": "execute_result"
    }
   ],
   "source": [
    "theta=np.matrix(np.zeros(3))\n",
    "theta.shape"
   ]
  },
  {
   "cell_type": "code",
   "execution_count": 104,
   "metadata": {
    "collapsed": true
   },
   "outputs": [],
   "source": [
    "def fitIt(X,y,alpha,iters):\n",
    "    theta=np.matrix(np.zeros(3))\n",
    "    temp=np.matrix(np.zeros(3))\n",
    "    for i in range(iters):\n",
    "        diff = 1.0/(1+np.power(np.e,-X*theta.T))-y\n",
    "        for j in range(3):\n",
    "            temp.T[j]=np.sum(np.multiply(diff,X[:,j]))\n",
    "        theta=theta-alpha*temp\n",
    "    return theta"
   ]
  },
  {
   "cell_type": "code",
   "execution_count": 105,
   "metadata": {},
   "outputs": [],
   "source": [
    "myModel= fitIt(X,y,0.0002,10000)"
   ]
  },
  {
   "cell_type": "code",
   "execution_count": 113,
   "metadata": {},
   "outputs": [
    {
     "data": {
      "text/plain": [
       "matrix([[ 0.61961083]])"
      ]
     },
     "execution_count": 113,
     "metadata": {},
     "output_type": "execute_result"
    }
   ],
   "source": [
    "1.0/(1+np.power(np.e,-np.matrix([[1,0.9,0.5]])*myModel.T))"
   ]
  },
  {
   "cell_type": "code",
   "execution_count": 107,
   "metadata": {
    "collapsed": true
   },
   "outputs": [],
   "source": [
    "def test(x,y):\n",
    "    myVal = 1.0/(1+np.power(np.e,-np.matrix([[1,x,y]])*myModel.T))\n",
    "    if(myVal>=0.5):\n",
    "        print(\"I think that's outisde the circle\")\n",
    "    else:\n",
    "        print(\"I think that's inside the circle\")"
   ]
  },
  {
   "cell_type": "code",
   "execution_count": 108,
   "metadata": {},
   "outputs": [
    {
     "name": "stdout",
     "output_type": "stream",
     "text": [
      "I think that's inside the circle\n"
     ]
    }
   ],
   "source": [
    "test(0,0)"
   ]
  },
  {
   "cell_type": "code",
   "execution_count": 109,
   "metadata": {},
   "outputs": [
    {
     "name": "stdout",
     "output_type": "stream",
     "text": [
      "I think that's inside the circle\n"
     ]
    }
   ],
   "source": [
    "test(0.5,0.5)"
   ]
  },
  {
   "cell_type": "code",
   "execution_count": 110,
   "metadata": {},
   "outputs": [
    {
     "name": "stdout",
     "output_type": "stream",
     "text": [
      "I think that's outisde the circle\n"
     ]
    }
   ],
   "source": [
    "test(0.8,0.8)"
   ]
  },
  {
   "cell_type": "code",
   "execution_count": 111,
   "metadata": {},
   "outputs": [
    {
     "name": "stdout",
     "output_type": "stream",
     "text": [
      "I think that's inside the circle\n"
     ]
    }
   ],
   "source": [
    "test(0.8,0.2)"
   ]
  },
  {
   "cell_type": "code",
   "execution_count": 116,
   "metadata": {},
   "outputs": [
    {
     "name": "stdout",
     "output_type": "stream",
     "text": [
      "I think that's outisde the circle\n"
     ]
    }
   ],
   "source": [
    "test(0.8,0.6)"
   ]
  },
  {
   "cell_type": "code",
   "execution_count": 117,
   "metadata": {},
   "outputs": [
    {
     "name": "stdout",
     "output_type": "stream",
     "text": [
      "I think that's inside the circle\n"
     ]
    }
   ],
   "source": [
    "test(0.4,0.9) ## Oh no! It's not that smart..."
   ]
  },
  {
   "cell_type": "code",
   "execution_count": 120,
   "metadata": {},
   "outputs": [
    {
     "data": {
      "text/plain": [
       "[-10.26769043840003, 8.071358778895025, 6.98272855249287]"
      ]
     },
     "execution_count": 120,
     "metadata": {},
     "output_type": "execute_result"
    }
   ],
   "source": [
    "myCoef=myModel.tolist()[0]\n",
    "myCoef"
   ]
  },
  {
   "cell_type": "code",
   "execution_count": 122,
   "metadata": {},
   "outputs": [
    {
     "data": {
      "image/png": "[encoded data removed]",
      "text/plain": [
       "<matplotlib.figure.Figure at 0x7f7a6c11b6d8>"
      ]
     },
     "metadata": {},
     "output_type": "display_data"
    }
   ],
   "source": [
    "myX = np.linspace(0,2,100)\n",
    "myY = -(myCoef[0]+myCoef[1]*myX)/myCoef[2]\n",
    "\n",
    "plt.scatter(my0x,my0y)\n",
    "plt.scatter(my1x,my1y)\n",
    "plt.plot(myX,myY)\n",
    "plt.show()"
   ]
  },
  {
   "cell_type": "markdown",
   "metadata": {},
   "source": [
    "Woohoo! It definitely learned something! That's incredible ain't it!"
   ]
  },
  {
   "cell_type": "code",
   "execution_count": null,
   "metadata": {
    "collapsed": true
   },
   "outputs": [],
   "source": []
  }
 ],
 "metadata": {
  "kernelspec": {
   "display_name": "Python 3",
   "language": "python",
   "name": "python3"
  },
  "language_info": {
   "codemirror_mode": {
    "name": "ipython",
    "version": 3
   },
   "file_extension": ".py",
   "mimetype": "text/x-python",
   "name": "python",
   "nbconvert_exporter": "python",
   "pygments_lexer": "ipython3",
   "version": "3.5.2"
  }
 },
 "nbformat": 4,
 "nbformat_minor": 2
}

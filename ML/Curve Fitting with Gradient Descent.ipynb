{
 "cells": [
  {
   "cell_type": "markdown",
   "metadata": {},
   "source": [
    "# Curve Fitting\n",
    "I'm going to generate some random noise about some samples of $y=\\sin(\\pi x)$ and we'll fit various linear models to demonstrate the concepts of underfitting, overfitting, and justrightfitting. It'll be like a regular 'ole goldilocks tale in here."
   ]
  },
  {
   "cell_type": "code",
   "execution_count": 2,
   "metadata": {
    "collapsed": true
   },
   "outputs": [],
   "source": [
    "import matplotlib.pyplot as plt\n",
    "import random\n",
    "import numpy as np"
   ]
  },
  {
   "cell_type": "code",
   "execution_count": 4,
   "metadata": {},
   "outputs": [
    {
     "data": {
      "image/png": "[encoded data removed]",
      "text/plain": [
       "<matplotlib.figure.Figure at 0x7f0ec17fc5f8>"
      ]
     },
     "metadata": {},
     "output_type": "display_data"
    }
   ],
   "source": [
    "x=np.linspace(0,1,100)\n",
    "y=np.sin(np.pi*x)\n",
    "plt.plot(x,y)\n",
    "plt.show()"
   ]
  },
  {
   "cell_type": "code",
   "execution_count": 12,
   "metadata": {},
   "outputs": [
    {
     "data": {
      "text/plain": [
       "0.2784515634264254"
      ]
     },
     "execution_count": 12,
     "metadata": {},
     "output_type": "execute_result"
    }
   ],
   "source": [
    "np.random.normal() ## gaussian distribution"
   ]
  },
  {
   "cell_type": "code",
   "execution_count": 19,
   "metadata": {
    "collapsed": true
   },
   "outputs": [],
   "source": [
    "def getPoints(N):\n",
    "    pts=[]\n",
    "    for i in range(N):\n",
    "        pts.append(np.sin(np.pi*i/N)+np.random.normal()/3) ## scaled back the noise some\n",
    "    return pts"
   ]
  },
  {
   "cell_type": "code",
   "execution_count": 20,
   "metadata": {},
   "outputs": [
    {
     "data": {
      "image/png": "[encoded data removed]",
      "text/plain": [
       "<matplotlib.figure.Figure at 0x7f0ebf144e10>"
      ]
     },
     "metadata": {},
     "output_type": "display_data"
    }
   ],
   "source": [
    "y_pts = getPoints(10)\n",
    "x_pts=np.linspace(0,1,10)\n",
    "plt.scatter(x_pts,y_pts,marker='o')\n",
    "plt.plot(x,y)\n",
    "plt.show()"
   ]
  },
  {
   "cell_type": "markdown",
   "metadata": {},
   "source": [
    "Alrighty! We've got the idea now! As our hypothesis, we will fit polynomials of varying degree with coefficients w. The model is linear in the coefficients w. They will look like: $h(w) = w_0+w_1 x+w_2 x^2+...$"
   ]
  },
  {
   "cell_type": "code",
   "execution_count": 25,
   "metadata": {},
   "outputs": [
    {
     "data": {
      "text/plain": [
       "array([ 0.333,  0.333,  0.333,  0.333,  0.333,  0.333,  0.333,  0.333,\n",
       "        0.333,  0.333])"
      ]
     },
     "execution_count": 25,
     "metadata": {},
     "output_type": "execute_result"
    }
   ],
   "source": [
    "## Let's start by fitting just a constant\n",
    "w0 = 0.333\n",
    "w1 = 0\n",
    "hf = lambda x: w0+w1*x ## Glad I checked\n",
    "h = hf(x_pts)\n",
    "h ## Just checking..."
   ]
  },
  {
   "cell_type": "code",
   "execution_count": 26,
   "metadata": {
    "collapsed": true
   },
   "outputs": [],
   "source": [
    "def getError(y_pts,h):\n",
    "    if(len(y_pts)!=len(h)):\n",
    "        print(\"Que? Chto? Shen ma?\")\n",
    "        return(-1)\n",
    "    return(sum((h-y_pts)**2))"
   ]
  },
  {
   "cell_type": "code",
   "execution_count": 27,
   "metadata": {},
   "outputs": [
    {
     "data": {
      "text/plain": [
       "1.9165049636628122"
      ]
     },
     "execution_count": 27,
     "metadata": {},
     "output_type": "execute_result"
    }
   ],
   "source": [
    "getError(y_pts,h)"
   ]
  },
  {
   "cell_type": "code",
   "execution_count": 28,
   "metadata": {},
   "outputs": [
    {
     "data": {
      "text/plain": [
       "1.2796858211149642"
      ]
     },
     "execution_count": 28,
     "metadata": {},
     "output_type": "execute_result"
    }
   ],
   "source": [
    "w0 = 0.5 ## In order to see what would happen if something were to change, we must change it #deep @JadenSmith\n",
    "h=hf(x_pts)\n",
    "getError(y_pts,h)"
   ]
  },
  {
   "cell_type": "code",
   "execution_count": 32,
   "metadata": {},
   "outputs": [
    {
     "data": {
      "text/plain": [
       "-12.09328827872973"
      ]
     },
     "execution_count": 32,
     "metadata": {},
     "output_type": "execute_result"
    }
   ],
   "source": [
    "## Calculate a 1-D gradient... or a derivative I guess\n",
    "dw=0.005\n",
    "\n",
    "w0 = 0.0\n",
    "h=hf(x_pts)\n",
    "e0=getError(y_pts,h)\n",
    "w0 = w0 + dw\n",
    "h=hf(x_pts)\n",
    "e1=getError(y_pts,h)\n",
    "de = (e1-e0)/dw\n",
    "de ## Seem reasonable?"
   ]
  },
  {
   "cell_type": "markdown",
   "metadata": {},
   "source": [
    "Let's put it all together now, cause this sure is looking messy. We'll begin by initializing our hypothesis to 0. Then we'll calculate the derivative w.r.t $w_0$ and update accordingly with a learning rate $\\alpha$ via the equation:\n",
    "\n",
    "$w_0 := w_0 -\\alpha \\frac{\\partial}{\\partial{w_0}}Error(w)$\n",
    "\n",
    "We'll do this until the updated $w_0$ \"hardly\" changes."
   ]
  },
  {
   "cell_type": "code",
   "execution_count": 30,
   "metadata": {
    "collapsed": true
   },
   "outputs": [],
   "source": [
    "def fitIt(x_pts,y_pts,dw,alpha):\n",
    "    w0 = 0\n",
    "    w1 = 0\n",
    "    while(True):\n",
    "        hf = lambda x: w0+w1*x\n",
    "        h = hf(x_pts)\n",
    "        e0=getError(y_pts,h)\n",
    "        w0 = w0 + dw\n",
    "        h=hf(x_pts)\n",
    "        e1=getError(y_pts,h)\n",
    "        de = (e1-e0)/dw\n",
    "        if((alpha*de)**2 < dw**2):\n",
    "            return w0\n",
    "        w0=(w0-dw)-alpha*de"
   ]
  },
  {
   "cell_type": "code",
   "execution_count": 36,
   "metadata": {},
   "outputs": [
    {
     "data": {
      "text/plain": [
       "0.60476034360969089"
      ]
     },
     "execution_count": 36,
     "metadata": {},
     "output_type": "execute_result"
    }
   ],
   "source": [
    "fitIt(x_pts,y_pts,0.0001,0.002)"
   ]
  },
  {
   "cell_type": "code",
   "execution_count": 49,
   "metadata": {},
   "outputs": [
    {
     "data": {
      "text/plain": [
       "1.1649015005128298"
      ]
     },
     "execution_count": 49,
     "metadata": {},
     "output_type": "execute_result"
    }
   ],
   "source": [
    "w0=0.60476034360969089\n",
    "h=hf(x_pts)\n",
    "getError(y_pts,h) ## How tiny is that error?"
   ]
  },
  {
   "cell_type": "code",
   "execution_count": 50,
   "metadata": {},
   "outputs": [
    {
     "data": {
      "text/plain": [
       "1.1649241104547043"
      ]
     },
     "execution_count": 50,
     "metadata": {},
     "output_type": "execute_result"
    }
   ],
   "source": [
    "w0=0.61\n",
    "h=hf(x_pts)\n",
    "getError(y_pts,h) ## Should be bigger"
   ]
  },
  {
   "cell_type": "code",
   "execution_count": 51,
   "metadata": {},
   "outputs": [
    {
     "data": {
      "text/plain": [
       "1.1653569932420007"
      ]
     },
     "execution_count": 51,
     "metadata": {},
     "output_type": "execute_result"
    }
   ],
   "source": [
    "w0=0.6\n",
    "h=hf(x_pts)\n",
    "getError(y_pts,h) ## Should be bigger"
   ]
  },
  {
   "cell_type": "code",
   "execution_count": 52,
   "metadata": {},
   "outputs": [
    {
     "data": {
      "image/png": "[encoded data removed]",
      "text/plain": [
       "<matplotlib.figure.Figure at 0x7f0ebf0d9ef0>"
      ]
     },
     "metadata": {},
     "output_type": "display_data"
    }
   ],
   "source": [
    "w0=0.60476034360969089\n",
    "h=hf(x_pts)\n",
    "plt.plot(x_pts,h)\n",
    "plt.scatter(x_pts,y_pts)\n",
    "plt.show()"
   ]
  },
  {
   "cell_type": "markdown",
   "metadata": {},
   "source": [
    "Looks good! Now let's make it work better! We'll modify fitIt() so you can specify the degree of the model."
   ]
  },
  {
   "cell_type": "code",
   "execution_count": 67,
   "metadata": {},
   "outputs": [],
   "source": [
    "def fitIt(x_pts,y_pts,degree,dw,alpha):\n",
    "    w = [0 for x in range(degree)]\n",
    "    while(True):\n",
    "        hf = np.poly1d(w) ## Haha no reinventing the wheel here!\n",
    "        h=hf(x_pts)\n",
    "        e0=getError(y_pts,h)\n",
    "        de=[]\n",
    "        for i in range(degree):\n",
    "            w[i] = w[i] + dw\n",
    "            hf = np.poly1d(w)\n",
    "            h=hf(x_pts)\n",
    "            e1=getError(y_pts,h)\n",
    "            de.append((e1-e0)/dw)\n",
    "        if((alpha*max(np.abs(de)))**2 < dw**2):\n",
    "            return w\n",
    "        for i in range(degree):\n",
    "            w[i]=w[i]-alpha*de[i]"
   ]
  },
  {
   "cell_type": "code",
   "execution_count": 68,
   "metadata": {},
   "outputs": [
    {
     "data": {
      "text/plain": [
       "[0.60478198626268642]"
      ]
     },
     "execution_count": 68,
     "metadata": {},
     "output_type": "execute_result"
    }
   ],
   "source": [
    "fitIt(x_pts,y_pts,1,0.0001,0.002)"
   ]
  },
  {
   "cell_type": "code",
   "execution_count": 70,
   "metadata": {},
   "outputs": [],
   "source": [
    "myW = fitIt(x_pts,y_pts,2,0.0001,0.002)"
   ]
  },
  {
   "cell_type": "code",
   "execution_count": 73,
   "metadata": {},
   "outputs": [
    {
     "data": {
      "image/png": "[encoded data removed]",
      "text/plain": [
       "<matplotlib.figure.Figure at 0x7f0ebeffd550>"
      ]
     },
     "metadata": {},
     "output_type": "display_data"
    }
   ],
   "source": [
    "myF = np.poly1d(myW)\n",
    "plt.plot(x_pts,myF(x_pts))\n",
    "plt.scatter(x_pts,y_pts)\n",
    "plt.show()"
   ]
  },
  {
   "cell_type": "markdown",
   "metadata": {},
   "source": [
    "Didn't change much going to degree 1, but degree 2 should make a big impact!"
   ]
  },
  {
   "cell_type": "code",
   "execution_count": 74,
   "metadata": {
    "collapsed": true
   },
   "outputs": [],
   "source": [
    "myW = fitIt(x_pts,y_pts,3,0.0001,0.002)"
   ]
  },
  {
   "cell_type": "code",
   "execution_count": 75,
   "metadata": {},
   "outputs": [
    {
     "data": {
      "image/png": "[encoded data removed]",
      "text/plain": [
       "<matplotlib.figure.Figure at 0x7f0ebef744e0>"
      ]
     },
     "metadata": {},
     "output_type": "display_data"
    }
   ],
   "source": [
    "myF = np.poly1d(myW)\n",
    "plt.plot(x_pts,myF(x_pts))\n",
    "plt.scatter(x_pts,y_pts)\n",
    "plt.show()"
   ]
  },
  {
   "cell_type": "markdown",
   "metadata": {},
   "source": [
    "That worked great! Unfortunately, this code effectively over-engineers a ridiculously simple concept, and already our code is suffering from the \"curse\" of dimensionality. I can't imagine how long an overfit model would take to run. "
   ]
  },
  {
   "cell_type": "code",
   "execution_count": 86,
   "metadata": {
    "collapsed": true
   },
   "outputs": [],
   "source": [
    "myW = fitIt(x_pts,y_pts,4,0.001,0.02)"
   ]
  },
  {
   "cell_type": "code",
   "execution_count": 87,
   "metadata": {},
   "outputs": [
    {
     "data": {
      "image/png": "[encoded data removed]",
      "text/plain": [
       "<matplotlib.figure.Figure at 0x7f0ec155a1d0>"
      ]
     },
     "metadata": {},
     "output_type": "display_data"
    }
   ],
   "source": [
    "myF = np.poly1d(myW)\n",
    "plt.plot(x_pts,myF(x_pts))\n",
    "plt.scatter(x_pts,y_pts)\n",
    "plt.show()"
   ]
  },
  {
   "cell_type": "markdown",
   "metadata": {},
   "source": [
    "It only took a year to run. Woo... that is some slow running stuff right there. Okay so not a year, but I definitely had another tab open and was reading for a bit before it came back with this oh so clearly overfitted model. Alright folks. I was hoping to set up a training/testing error comparison, but this code is so slow I want to cry. Clearly, I have much room for improvement. I'm very excited to embark down this ML path. Very cool stuff indeed!"
   ]
  }
 ],
 "metadata": {
  "kernelspec": {
   "display_name": "Python 3",
   "language": "python",
   "name": "python3"
  },
  "language_info": {
   "codemirror_mode": {
    "name": "ipython",
    "version": 3
   },
   "file_extension": ".py",
   "mimetype": "text/x-python",
   "name": "python",
   "nbconvert_exporter": "python",
   "pygments_lexer": "ipython3",
   "version": "3.5.2"
  }
 },
 "nbformat": 4,
 "nbformat_minor": 2
}

{
 "cells": [
  {
   "cell_type": "code",
   "execution_count": 17,
   "metadata": {
    "collapsed": true
   },
   "outputs": [],
   "source": [
    "## Welcome to Object Orientation\n",
    "class livingSpace(object):\n",
    "    \"\"\"a good demo for Object-oriented principles I do believe\"\"\"\n",
    "    def __init__(self, address, bathrooms = None, bedrooms = None):\n",
    "        ## Apparently overloading is accomplished \n",
    "        ## not by using multiple __init__s\n",
    "        self.address = address\n",
    "        \n",
    "        if bathrooms is None:\n",
    "            self.bathrooms = 1 ## By state law of course!\n",
    "        else:\n",
    "            self.bathrooms = bathrooms\n",
    "        if bedrooms is None:\n",
    "            self.bedrooms = 0 ## Might be a loft?\n",
    "        else:\n",
    "            self.bedrooms = bedrooms\n",
    "            \n",
    "        self.forSale = False\n",
    "        \n",
    "    def putOnMarket(self, price):\n",
    "        self.forSale = True\n",
    "        self.price = price\n",
    "        \n",
    "    def takeOffMarket(self):\n",
    "        self.forSale = False\n",
    "        self.price = None\n",
    "        \n",
    "    def isOnMarket(self):\n",
    "        if(self.forSale):\n",
    "            return(True)\n",
    "        else:\n",
    "            return(False)\n",
    "        \n",
    "    def __str__(self):\n",
    "        return(self.address)"
   ]
  },
  {
   "cell_type": "code",
   "execution_count": 19,
   "metadata": {},
   "outputs": [],
   "source": [
    "myHouse = livingSpace('314 Pi street')"
   ]
  },
  {
   "cell_type": "code",
   "execution_count": 20,
   "metadata": {},
   "outputs": [
    {
     "data": {
      "text/plain": [
       "0"
      ]
     },
     "execution_count": 20,
     "metadata": {},
     "output_type": "execute_result"
    }
   ],
   "source": [
    "myHouse.bedrooms ## I know... bad practice"
   ]
  },
  {
   "cell_type": "code",
   "execution_count": 21,
   "metadata": {},
   "outputs": [
    {
     "data": {
      "text/plain": [
       "False"
      ]
     },
     "execution_count": 21,
     "metadata": {},
     "output_type": "execute_result"
    }
   ],
   "source": [
    "myHouse.isOnMarket()"
   ]
  },
  {
   "cell_type": "code",
   "execution_count": 23,
   "metadata": {},
   "outputs": [],
   "source": [
    "myHouse.putOnMarket(150000)"
   ]
  },
  {
   "cell_type": "code",
   "execution_count": 24,
   "metadata": {},
   "outputs": [
    {
     "data": {
      "text/plain": [
       "True"
      ]
     },
     "execution_count": 24,
     "metadata": {},
     "output_type": "execute_result"
    }
   ],
   "source": [
    "myHouse.isOnMarket()"
   ]
  },
  {
   "cell_type": "code",
   "execution_count": 33,
   "metadata": {
    "collapsed": true
   },
   "outputs": [],
   "source": [
    "class Apartment(livingSpace):\n",
    "    def __init__(self, unitNum, address, bathrooms = None, bedrooms = None):\n",
    "        self.unitNum = unitNum\n",
    "        livingSpace.__init__(self, address, bathrooms, bedrooms)\n",
    "        \n",
    "    def getUnitNum(self):\n",
    "        return(self.unitNum)\n",
    "    \n",
    "    def __str__(self):\n",
    "        return(self.address+\", Unit: \"+self.unitNum)"
   ]
  },
  {
   "cell_type": "code",
   "execution_count": 34,
   "metadata": {},
   "outputs": [],
   "source": [
    "myApt = Apartment('36','1337 Sanchez St.',bathrooms = 2,bedrooms = 2)"
   ]
  },
  {
   "cell_type": "code",
   "execution_count": 35,
   "metadata": {},
   "outputs": [
    {
     "name": "stdout",
     "output_type": "stream",
     "text": [
      "1337 Sanchez St., Unit: 36\n"
     ]
    }
   ],
   "source": [
    "print(myApt)"
   ]
  },
  {
   "cell_type": "code",
   "execution_count": null,
   "metadata": {
    "collapsed": true
   },
   "outputs": [],
   "source": []
  }
 ],
 "metadata": {
  "kernelspec": {
   "display_name": "Python 3",
   "language": "python",
   "name": "python3"
  },
  "language_info": {
   "codemirror_mode": {
    "name": "ipython",
    "version": 3
   },
   "file_extension": ".py",
   "mimetype": "text/x-python",
   "name": "python",
   "nbconvert_exporter": "python",
   "pygments_lexer": "ipython3",
   "version": "3.5.2"
  }
 },
 "nbformat": 4,
 "nbformat_minor": 2
}

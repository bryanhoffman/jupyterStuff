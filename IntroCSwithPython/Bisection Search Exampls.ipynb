{
 "cells": [
  {
   "cell_type": "code",
   "execution_count": 1,
   "metadata": {
    "collapsed": true
   },
   "outputs": [],
   "source": [
    "## Bisection Search Example to find pythagorean triples given a,b\n",
    "## by Cauchy-Shwarz min(c) = abs(a-b) max(c) = a+b\n",
    "def bisect(a,b):\n",
    "    epsilon = 0.0001\n",
    "    myMin = abs(a-b)\n",
    "    myMax = a+b\n",
    "    c_guess = 0.5*(myMin+myMax)\n",
    "    diff = c_guess**2-(a**2+b**2)\n",
    "    while(abs(diff)>epsilon):\n",
    "        if(diff>0):\n",
    "            myMax = c_guess\n",
    "            c_guess = 0.5*(myMin+myMax)\n",
    "        else:\n",
    "            myMin=c_guess\n",
    "            c_guess = 0.5*(myMin+myMax)\n",
    "        print(\"Updated guess:\",c_guess)\n",
    "        diff = c_guess**2-(a**2+b**2)\n",
    "    print(\"The pythagorean triple is:\",a,b,c_guess)"
   ]
  },
  {
   "cell_type": "code",
   "execution_count": 2,
   "metadata": {},
   "outputs": [
    {
     "name": "stdout",
     "output_type": "stream",
     "text": [
      "Updated guess: 5.5\n",
      "Updated guess: 4.75\n",
      "Updated guess: 5.125\n",
      "Updated guess: 4.9375\n",
      "Updated guess: 5.03125\n",
      "Updated guess: 4.984375\n",
      "Updated guess: 5.0078125\n",
      "Updated guess: 4.99609375\n",
      "Updated guess: 5.001953125\n",
      "Updated guess: 4.9990234375\n",
      "Updated guess: 5.00048828125\n",
      "Updated guess: 4.999755859375\n",
      "Updated guess: 5.0001220703125\n",
      "Updated guess: 4.99993896484375\n",
      "Updated guess: 5.000030517578125\n",
      "Updated guess: 4.9999847412109375\n",
      "Updated guess: 5.000007629394531\n",
      "The pythagorean triple is: 3 4 5.000007629394531\n"
     ]
    }
   ],
   "source": [
    "bisect(3,4)"
   ]
  },
  {
   "cell_type": "code",
   "execution_count": 3,
   "metadata": {},
   "outputs": [
    {
     "name": "stdout",
     "output_type": "stream",
     "text": [
      "Updated guess: 158.0\n",
      "Updated guess: 147.5\n",
      "Updated guess: 142.25\n",
      "Updated guess: 144.875\n",
      "Updated guess: 143.5625\n",
      "Updated guess: 142.90625\n",
      "Updated guess: 143.234375\n",
      "Updated guess: 143.3984375\n",
      "Updated guess: 143.31640625\n",
      "Updated guess: 143.275390625\n",
      "Updated guess: 143.2958984375\n",
      "Updated guess: 143.28564453125\n",
      "Updated guess: 143.290771484375\n",
      "Updated guess: 143.2933349609375\n",
      "Updated guess: 143.29461669921875\n",
      "Updated guess: 143.29397583007812\n",
      "Updated guess: 143.2936553955078\n",
      "Updated guess: 143.29349517822266\n",
      "Updated guess: 143.29341506958008\n",
      "Updated guess: 143.2933750152588\n",
      "Updated guess: 143.29339504241943\n",
      "Updated guess: 143.29340505599976\n",
      "The pythagorean triple is: 42 137 143.29340505599976\n"
     ]
    }
   ],
   "source": [
    "bisect(42,137)"
   ]
  },
  {
   "cell_type": "code",
   "execution_count": null,
   "metadata": {
    "collapsed": true
   },
   "outputs": [],
   "source": []
  }
 ],
 "metadata": {
  "kernelspec": {
   "display_name": "Python 3",
   "language": "python",
   "name": "python3"
  },
  "language_info": {
   "codemirror_mode": {
    "name": "ipython",
    "version": 3
   },
   "file_extension": ".py",
   "mimetype": "text/x-python",
   "name": "python",
   "nbconvert_exporter": "python",
   "pygments_lexer": "ipython3",
   "version": "3.5.2"
  }
 },
 "nbformat": 4,
 "nbformat_minor": 2
}

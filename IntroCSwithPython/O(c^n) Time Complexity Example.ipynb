{
 "cells": [
  {
   "cell_type": "code",
   "execution_count": 70,
   "metadata": {
    "collapsed": true
   },
   "outputs": [],
   "source": [
    "import time"
   ]
  },
  {
   "cell_type": "code",
   "execution_count": 2,
   "metadata": {
    "collapsed": true
   },
   "outputs": [],
   "source": [
    "import matplotlib.pyplot as plt"
   ]
  },
  {
   "cell_type": "code",
   "execution_count": 48,
   "metadata": {
    "collapsed": true
   },
   "outputs": [],
   "source": [
    "def powerSet(L):\n",
    "    pS = []\n",
    "    for i in range(0,2**len(L)):\n",
    "        mySubset = []\n",
    "        n = len(L)-1\n",
    "        tempNum = i\n",
    "        while tempNum > 0:\n",
    "            if(tempNum%2==1):\n",
    "                mySubset.append(L[n])\n",
    "            tempNum=tempNum//2\n",
    "            n-=1\n",
    "        pS.append(mySubset)\n",
    "    return pS"
   ]
  },
  {
   "cell_type": "code",
   "execution_count": 51,
   "metadata": {},
   "outputs": [
    {
     "data": {
      "text/plain": [
       "[[],\n",
       " [5],\n",
       " [4],\n",
       " [5, 4],\n",
       " [3],\n",
       " [5, 3],\n",
       " [4, 3],\n",
       " [5, 4, 3],\n",
       " [2],\n",
       " [5, 2],\n",
       " [4, 2],\n",
       " [5, 4, 2],\n",
       " [3, 2],\n",
       " [5, 3, 2],\n",
       " [4, 3, 2],\n",
       " [5, 4, 3, 2],\n",
       " [1],\n",
       " [5, 1],\n",
       " [4, 1],\n",
       " [5, 4, 1],\n",
       " [3, 1],\n",
       " [5, 3, 1],\n",
       " [4, 3, 1],\n",
       " [5, 4, 3, 1],\n",
       " [2, 1],\n",
       " [5, 2, 1],\n",
       " [4, 2, 1],\n",
       " [5, 4, 2, 1],\n",
       " [3, 2, 1],\n",
       " [5, 3, 2, 1],\n",
       " [4, 3, 2, 1],\n",
       " [5, 4, 3, 2, 1]]"
      ]
     },
     "execution_count": 51,
     "metadata": {},
     "output_type": "execute_result"
    }
   ],
   "source": [
    "powerSet([1,2,3,4,5])"
   ]
  },
  {
   "cell_type": "code",
   "execution_count": 73,
   "metadata": {
    "collapsed": true
   },
   "outputs": [],
   "source": [
    "def timeIt(N):\n",
    "    L = [x for x in range(0,N)]\n",
    "    t0=time.time()\n",
    "    powerSet(L)\n",
    "    t1=time.time()\n",
    "    t_tot = t1-t0\n",
    "    return t_tot"
   ]
  },
  {
   "cell_type": "code",
   "execution_count": 75,
   "metadata": {
    "collapsed": true
   },
   "outputs": [],
   "source": [
    "times = []\n",
    "for i in range(1,22):\n",
    "    times.append(timeIt(i))"
   ]
  },
  {
   "cell_type": "code",
   "execution_count": 76,
   "metadata": {},
   "outputs": [
    {
     "data": {
      "text/plain": [
       "[<matplotlib.lines.Line2D at 0x7f3b08d46c88>]"
      ]
     },
     "execution_count": 76,
     "metadata": {},
     "output_type": "execute_result"
    }
   ],
   "source": [
    "plt.plot(range(1,22),times)"
   ]
  },
  {
   "cell_type": "code",
   "execution_count": 77,
   "metadata": {},
   "outputs": [
    {
     "data": {
      "image/png": "[encoded data removed]",
      "text/plain": [
       "<matplotlib.figure.Figure at 0x7f3b0cd6bb00>"
      ]
     },
     "metadata": {},
     "output_type": "display_data"
    }
   ],
   "source": [
    "plt.show()"
   ]
  },
  {
   "cell_type": "markdown",
   "metadata": {},
   "source": [
    "There you have it! Powerset clearly runs in O(c^n) time which means the function has exponential time complexity"
   ]
  },
  {
   "cell_type": "code",
   "execution_count": null,
   "metadata": {
    "collapsed": true
   },
   "outputs": [],
   "source": []
  }
 ],
 "metadata": {
  "kernelspec": {
   "display_name": "Python 3",
   "language": "python",
   "name": "python3"
  },
  "language_info": {
   "codemirror_mode": {
    "name": "ipython",
    "version": 3
   },
   "file_extension": ".py",
   "mimetype": "text/x-python",
   "name": "python",
   "nbconvert_exporter": "python",
   "pygments_lexer": "ipython3",
   "version": "3.5.2"
  }
 },
 "nbformat": 4,
 "nbformat_minor": 2
}

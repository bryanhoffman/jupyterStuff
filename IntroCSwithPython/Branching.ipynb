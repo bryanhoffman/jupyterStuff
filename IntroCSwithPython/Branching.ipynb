{
 "cells": [
  {
   "cell_type": "code",
   "execution_count": 1,
   "metadata": {
    "collapsed": true
   },
   "outputs": [],
   "source": [
    "## Branching\n",
    "def even_or_odd(x):\n",
    "    if(x%2 == 0):\n",
    "        print(\"it's even buddy\")\n",
    "    else:\n",
    "        print(\"it's odd pal\")"
   ]
  },
  {
   "cell_type": "code",
   "execution_count": 2,
   "metadata": {},
   "outputs": [
    {
     "name": "stdout",
     "output_type": "stream",
     "text": [
      "it's odd pal\n"
     ]
    }
   ],
   "source": [
    "even_or_odd(27)"
   ]
  },
  {
   "cell_type": "code",
   "execution_count": 3,
   "metadata": {},
   "outputs": [
    {
     "name": "stdout",
     "output_type": "stream",
     "text": [
      "it's even buddy\n"
     ]
    }
   ],
   "source": [
    "even_or_odd(12)"
   ]
  },
  {
   "cell_type": "code",
   "execution_count": 16,
   "metadata": {},
   "outputs": [],
   "source": [
    "## nesting example\n",
    "def fizz_buzz(x):\n",
    "    if(x%3==0):\n",
    "        if(x%5==0):\n",
    "            print(\"fizz-buzz\")\n",
    "        else:\n",
    "            print(\"fizz\")\n",
    "            \n",
    "    elif(x%5==0):\n",
    "        print(\"buzz\")\n",
    "    else:\n",
    "        print(x)"
   ]
  },
  {
   "cell_type": "code",
   "execution_count": 18,
   "metadata": {},
   "outputs": [
    {
     "name": "stdout",
     "output_type": "stream",
     "text": [
      "1\n",
      "2\n",
      "fizz\n",
      "4\n",
      "buzz\n",
      "fizz\n",
      "7\n",
      "8\n",
      "fizz\n",
      "buzz\n",
      "11\n",
      "fizz\n",
      "13\n",
      "14\n",
      "fizz-buzz\n"
     ]
    }
   ],
   "source": [
    "## TIL range(1,16) is not [1,16] but [1,16)\n",
    "for i in range(1,16):\n",
    "    fizz_buzz(i)"
   ]
  },
  {
   "cell_type": "code",
   "execution_count": 19,
   "metadata": {},
   "outputs": [
    {
     "name": "stdout",
     "output_type": "stream",
     "text": [
      "abracadabra\n",
      "bracadabra\n",
      "racadabra\n",
      "acadabra\n",
      "cadabra\n",
      "adabra\n",
      "dabra\n",
      "abra\n",
      "bra\n",
      "ra\n",
      "a\n"
     ]
    }
   ],
   "source": [
    "## No reason for this one really\n",
    "myStr=\"abracadabra\"\n",
    "for i in range(0,len(myStr)):\n",
    "    print(myStr[i:])"
   ]
  },
  {
   "cell_type": "code",
   "execution_count": null,
   "metadata": {},
   "outputs": [],
   "source": []
  },
  {
   "cell_type": "code",
   "execution_count": null,
   "metadata": {
    "collapsed": true
   },
   "outputs": [],
   "source": []
  }
 ],
 "metadata": {
  "kernelspec": {
   "display_name": "Python 3",
   "language": "python",
   "name": "python3"
  },
  "language_info": {
   "codemirror_mode": {
    "name": "ipython",
    "version": 3
   },
   "file_extension": ".py",
   "mimetype": "text/x-python",
   "name": "python",
   "nbconvert_exporter": "python",
   "pygments_lexer": "ipython3",
   "version": "3.5.2"
  }
 },
 "nbformat": 4,
 "nbformat_minor": 2
}

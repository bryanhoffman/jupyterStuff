{
 "cells": [
  {
   "cell_type": "code",
   "execution_count": 1,
   "metadata": {
    "collapsed": true
   },
   "outputs": [],
   "source": [
    "import random"
   ]
  },
  {
   "cell_type": "code",
   "execution_count": 2,
   "metadata": {
    "collapsed": true
   },
   "outputs": [],
   "source": [
    "L = [random.random() for x in range(0,100)]"
   ]
  },
  {
   "cell_type": "code",
   "execution_count": 10,
   "metadata": {
    "collapsed": true
   },
   "outputs": [],
   "source": [
    "def slowSort(L):\n",
    "    for i in range(0,len(L)):\n",
    "        myMin = L[i]\n",
    "        myPos = i\n",
    "        for j in range(i+1,len(L)):\n",
    "            if(L[j]<myMin):\n",
    "                myMin = L[j]\n",
    "                myPos = j\n",
    "        L[i],L[myPos]=myMin,L[i]\n",
    "    return(L)"
   ]
  },
  {
   "cell_type": "code",
   "execution_count": 20,
   "metadata": {
    "collapsed": true
   },
   "outputs": [],
   "source": [
    "def mergeSort(L):\n",
    "    if(len(L)< 2):\n",
    "        return L[:] ## Already sorted\n",
    "    else:\n",
    "        midPt = len(L)//2\n",
    "        left=mergeSort(L[:midPt])\n",
    "        right=mergeSort(L[midPt:])\n",
    "        result = []\n",
    "        i,j=0,0\n",
    "        while(i<len(left) & j<len(right)):\n",
    "            if(left[i]<right[j]):\n",
    "                result.append(left[i])\n",
    "                i+=1\n",
    "            else:\n",
    "                result.append(right[j])\n",
    "                j+=1\n",
    "        while(i<len(left)):\n",
    "            result.append(left[i])\n",
    "            i+=1\n",
    "        while(j<len(right)):\n",
    "            result.append(right[j])\n",
    "            j+=1\n",
    "        return(result)"
   ]
  },
  {
   "cell_type": "code",
   "execution_count": 22,
   "metadata": {
    "collapsed": true
   },
   "outputs": [],
   "source": [
    "import time\n",
    "import matplotlib.pyplot as plt"
   ]
  },
  {
   "cell_type": "code",
   "execution_count": 24,
   "metadata": {
    "collapsed": true
   },
   "outputs": [],
   "source": [
    "slowT = []\n",
    "mergeT = []\n",
    "for N in range(1,26):\n",
    "    L = [random.random() for x in range(0,N*100)]\n",
    "    t0 = time.time()\n",
    "    slowSort(L)\n",
    "    t1 = time.time()\n",
    "    slowT.append(t1-t0)\n",
    "    t0 = time.time()\n",
    "    mergeSort(L)\n",
    "    t1 = time.time()\n",
    "    mergeT.append(t1-t0)"
   ]
  },
  {
   "cell_type": "code",
   "execution_count": 25,
   "metadata": {},
   "outputs": [
    {
     "data": {
      "image/png": "[encoded data removed]",
      "text/plain": [
       "<matplotlib.figure.Figure at 0x7fb258d32320>"
      ]
     },
     "metadata": {},
     "output_type": "display_data"
    }
   ],
   "source": [
    "plt.plot(range(1,26),slowT)\n",
    "plt.show()"
   ]
  },
  {
   "cell_type": "code",
   "execution_count": 28,
   "metadata": {},
   "outputs": [
    {
     "data": {
      "image/png": "[encoded data removed]",
      "text/plain": [
       "<matplotlib.figure.Figure at 0x7fb256c35b38>"
      ]
     },
     "metadata": {},
     "output_type": "display_data"
    }
   ],
   "source": [
    "plt.plot(range(1,26),slowT)\n",
    "plt.plot(range(1,26),mergeT)\n",
    "plt.show()"
   ]
  },
  {
   "cell_type": "markdown",
   "metadata": {},
   "source": [
    "Wow, it doesn't even compare. The difference between O(n^2) and O(n\\*log(n)) is insanse. No wonder the FFT is the most important algorithm of the century!"
   ]
  },
  {
   "cell_type": "code",
   "execution_count": null,
   "metadata": {
    "collapsed": true
   },
   "outputs": [],
   "source": []
  }
 ],
 "metadata": {
  "kernelspec": {
   "display_name": "Python 3",
   "language": "python",
   "name": "python3"
  },
  "language_info": {
   "codemirror_mode": {
    "name": "ipython",
    "version": 3
   },
   "file_extension": ".py",
   "mimetype": "text/x-python",
   "name": "python",
   "nbconvert_exporter": "python",
   "pygments_lexer": "ipython3",
   "version": "3.5.2"
  }
 },
 "nbformat": 4,
 "nbformat_minor": 2
}

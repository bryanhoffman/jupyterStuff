{
 "cells": [
  {
   "cell_type": "code",
   "execution_count": 6,
   "metadata": {
    "collapsed": true
   },
   "outputs": [],
   "source": [
    "## Heron's formula for computationally determining the sqrt of a number\n",
    "def heron(x,sqrt_guess):\n",
    "    sqrd = sqrt_guess**2\n",
    "    diff = abs(x-sqrd)\n",
    "    print(\"The guess value squared was: \",sqrd,\" and was off by: \",diff)\n",
    "    \n"
   ]
  },
  {
   "cell_type": "code",
   "execution_count": 7,
   "metadata": {},
   "outputs": [
    {
     "name": "stdout",
     "output_type": "stream",
     "text": [
      "The guess value squared was:  9  and was off by:  16\n"
     ]
    }
   ],
   "source": [
    "heron(25,3)"
   ]
  },
  {
   "cell_type": "code",
   "execution_count": 11,
   "metadata": {
    "collapsed": true
   },
   "outputs": [],
   "source": [
    "def heron_iterate(x,sqrt_guess):\n",
    "    sqrd = sqrt_guess**2\n",
    "    diff = abs(x-sqrd)\n",
    "    while(diff>0.00001*x):\n",
    "        print(sqrt_guess)\n",
    "        sqrt_guess = (sqrt_guess+x/sqrt_guess)/2.0\n",
    "        sqrd = sqrt_guess**2\n",
    "        diff = abs(x-sqrd)\n",
    "        \n",
    "    "
   ]
  },
  {
   "cell_type": "code",
   "execution_count": 12,
   "metadata": {},
   "outputs": [
    {
     "name": "stdout",
     "output_type": "stream",
     "text": [
      "3\n",
      "5.666666666666667\n",
      "5.03921568627451\n",
      "5.000152590218967\n"
     ]
    }
   ],
   "source": [
    "heron_iterate(25,3)"
   ]
  },
  {
   "cell_type": "code",
   "execution_count": 13,
   "metadata": {},
   "outputs": [
    {
     "name": "stdout",
     "output_type": "stream",
     "text": [
      "1.4\n",
      "1.4142857142857141\n"
     ]
    }
   ],
   "source": [
    "heron_iterate(2,1.4)"
   ]
  },
  {
   "cell_type": "code",
   "execution_count": 14,
   "metadata": {
    "collapsed": true
   },
   "outputs": [],
   "source": [
    "## Should anybody read this you might appreciate what just occured. \n",
    "## I was going to go through all the trouble of writing out Newton's\n",
    "## method and comparing the two sqrt() solvers. Then it dawned on me\n",
    "## the Babylonian Method/Heron's formula is Newton's Method! Wow!"
   ]
  },
  {
   "cell_type": "code",
   "execution_count": null,
   "metadata": {
    "collapsed": true
   },
   "outputs": [],
   "source": []
  }
 ],
 "metadata": {
  "kernelspec": {
   "display_name": "Python 3",
   "language": "python",
   "name": "python3"
  },
  "language_info": {
   "codemirror_mode": {
    "name": "ipython",
    "version": 3
   },
   "file_extension": ".py",
   "mimetype": "text/x-python",
   "name": "python",
   "nbconvert_exporter": "python",
   "pygments_lexer": "ipython3",
   "version": "3.5.2"
  }
 },
 "nbformat": 4,
 "nbformat_minor": 2
}

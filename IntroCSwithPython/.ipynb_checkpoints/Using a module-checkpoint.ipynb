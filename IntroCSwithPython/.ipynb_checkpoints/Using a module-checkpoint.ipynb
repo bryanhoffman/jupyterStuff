{
 "cells": [
  {
   "cell_type": "code",
   "execution_count": 2,
   "metadata": {},
   "outputs": [],
   "source": [
    "import myModule"
   ]
  },
  {
   "cell_type": "code",
   "execution_count": 3,
   "metadata": {},
   "outputs": [
    {
     "ename": "NameError",
     "evalue": "name 'funky' is not defined",
     "output_type": "error",
     "traceback": [
      "\u001b[0;31m---------------------------------------------------------------------------\u001b[0m",
      "\u001b[0;31mNameError\u001b[0m                                 Traceback (most recent call last)",
      "\u001b[0;32m<ipython-input-3-ed055ff78346>\u001b[0m in \u001b[0;36m<module>\u001b[0;34m()\u001b[0m\n\u001b[0;32m----> 1\u001b[0;31m \u001b[0mfunky\u001b[0m\u001b[0;34m(\u001b[0m\u001b[0;36m8\u001b[0m\u001b[0;34m)\u001b[0m\u001b[0;34m\u001b[0m\u001b[0m\n\u001b[0m",
      "\u001b[0;31mNameError\u001b[0m: name 'funky' is not defined"
     ]
    }
   ],
   "source": [
    "funky(8)"
   ]
  },
  {
   "cell_type": "code",
   "execution_count": 4,
   "metadata": {},
   "outputs": [
    {
     "name": "stdout",
     "output_type": "stream",
     "text": [
      "Let's get funky 8 times!\n",
      "Doh doh doh, doh doh doh, doh doh\n",
      "Doh doh doh, doh doh doh, doh doh\n",
      "Doh doh doh, doh doh doh, doh doh\n",
      "Doh doh doh, doh doh doh, doh doh\n",
      "Doh doh doh, doh doh doh, doh doh\n",
      "Doh doh doh, doh doh doh, doh doh\n",
      "Doh doh doh, doh doh doh, doh doh\n",
      "Doh doh doh, doh duh (Aaaaaaow!)\n"
     ]
    }
   ],
   "source": [
    "myModule.funky(8)"
   ]
  },
  {
   "cell_type": "code",
   "execution_count": 5,
   "metadata": {
    "collapsed": true
   },
   "outputs": [],
   "source": [
    "from myModule import funky"
   ]
  },
  {
   "cell_type": "code",
   "execution_count": 6,
   "metadata": {},
   "outputs": [
    {
     "name": "stdout",
     "output_type": "stream",
     "text": [
      "Let's get funky 4 times!\n",
      "Doh doh doh, doh doh doh, doh doh\n",
      "Doh doh doh, doh doh doh, doh doh\n",
      "Doh doh doh, doh doh doh, doh doh\n",
      "Doh doh doh, doh duh (Aaaaaaow!)\n"
     ]
    }
   ],
   "source": [
    "funky(4)"
   ]
  },
  {
   "cell_type": "code",
   "execution_count": null,
   "metadata": {
    "collapsed": true
   },
   "outputs": [],
   "source": []
  }
 ],
 "metadata": {
  "kernelspec": {
   "display_name": "Python 3",
   "language": "python",
   "name": "python3"
  },
  "language_info": {
   "codemirror_mode": {
    "name": "ipython",
    "version": 3
   },
   "file_extension": ".py",
   "mimetype": "text/x-python",
   "name": "python",
   "nbconvert_exporter": "python",
   "pygments_lexer": "ipython3",
   "version": "3.5.2"
  }
 },
 "nbformat": 4,
 "nbformat_minor": 2
}

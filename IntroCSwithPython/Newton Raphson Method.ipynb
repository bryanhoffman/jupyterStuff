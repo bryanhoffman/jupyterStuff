{
 "cells": [
  {
   "cell_type": "code",
   "execution_count": 2,
   "metadata": {},
   "outputs": [],
   "source": [
    "import math"
   ]
  },
  {
   "cell_type": "code",
   "execution_count": 3,
   "metadata": {},
   "outputs": [
    {
     "data": {
      "text/plain": [
       "-0.4161468365471424"
      ]
     },
     "execution_count": 3,
     "metadata": {},
     "output_type": "execute_result"
    }
   ],
   "source": [
    "math.cos(2)"
   ]
  },
  {
   "cell_type": "code",
   "execution_count": 8,
   "metadata": {
    "collapsed": true
   },
   "outputs": [],
   "source": [
    "## Newton's Method\n",
    "## x_n+1 = x_n - f(x_n)/f'(x_n)\n",
    "## find val of x nearest x_init s.t. sin(x) = 0\n",
    "def newton(x_init):\n",
    "    epsilon = 0.00001\n",
    "    x = x_init - math.sin(x_init)/math.cos(x_init)\n",
    "    while(abs(math.sin(x))>epsilon):\n",
    "        print(x)\n",
    "        x = x - math.sin(x)/math.cos(x)\n",
    "    print(x,\"is a zero of sin(x) near:\",x_init)"
   ]
  },
  {
   "cell_type": "code",
   "execution_count": 9,
   "metadata": {},
   "outputs": [
    {
     "name": "stdout",
     "output_type": "stream",
     "text": [
      "2.8421787176504223\n",
      "3.1508729396853696\n",
      "3.1415923871630587 is a zero of sin(x) near: 4\n"
     ]
    }
   ],
   "source": [
    "newton(4)"
   ]
  },
  {
   "cell_type": "code",
   "execution_count": null,
   "metadata": {
    "collapsed": true
   },
   "outputs": [],
   "source": []
  }
 ],
 "metadata": {
  "kernelspec": {
   "display_name": "Python 3",
   "language": "python",
   "name": "python3"
  },
  "language_info": {
   "codemirror_mode": {
    "name": "ipython",
    "version": 3
   },
   "file_extension": ".py",
   "mimetype": "text/x-python",
   "name": "python",
   "nbconvert_exporter": "python",
   "pygments_lexer": "ipython3",
   "version": "3.5.2"
  }
 },
 "nbformat": 4,
 "nbformat_minor": 2
}

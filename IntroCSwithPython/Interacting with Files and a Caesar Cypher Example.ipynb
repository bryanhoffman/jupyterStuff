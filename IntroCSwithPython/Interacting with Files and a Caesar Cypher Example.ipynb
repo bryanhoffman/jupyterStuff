{
 "cells": [
  {
   "cell_type": "code",
   "execution_count": 14,
   "metadata": {
    "collapsed": true
   },
   "outputs": [],
   "source": [
    "## Caesar Cyphers and File Manipulation\n",
    "secret = \"caesar cyphers are terribly insecure\"\n",
    "## the Cypher\n",
    "def cypher(secret, num):\n",
    "    alpha = 'abcdefghijklmnopqrstuvwxyz '\n",
    "    temp = ''\n",
    "    for i in range(0,len(secret)):\n",
    "        temp+=alpha[(alpha.find(secret[i])+num)%27]\n",
    "\n",
    "    ## open a file \n",
    "    nameHandle = open('message.txt','w')\n",
    "    nameHandle.write(temp)\n",
    "    nameHandle.close()\n",
    "    "
   ]
  },
  {
   "cell_type": "code",
   "execution_count": 15,
   "metadata": {},
   "outputs": [],
   "source": [
    "cypher(secret,7)"
   ]
  },
  {
   "cell_type": "code",
   "execution_count": 17,
   "metadata": {},
   "outputs": [
    {
     "name": "stdout",
     "output_type": "stream",
     "text": [
      "jhlzhygjewolyzghylg lyypisegpuzljay\n"
     ]
    }
   ],
   "source": [
    "nameHandle = open('message.txt','r')\n",
    "for line in nameHandle:\n",
    "    print(line[:-1])\n",
    "nameHandle.close()"
   ]
  },
  {
   "cell_type": "code",
   "execution_count": 20,
   "metadata": {
    "collapsed": true
   },
   "outputs": [],
   "source": [
    "## the D-Cypher\n",
    "def decypher(num):\n",
    "    nameHandle = open('message.txt','r')\n",
    "    for line in nameHandle:\n",
    "        secret = line\n",
    "    alpha = 'abcdefghijklmnopqrstuvwxyz '\n",
    "    temp = ''\n",
    "    for i in range(0,len(secret)):\n",
    "        temp+=alpha[(alpha.find(secret[i])-num)%27]\n",
    "    print(temp)\n"
   ]
  },
  {
   "cell_type": "code",
   "execution_count": 21,
   "metadata": {},
   "outputs": [
    {
     "name": "stdout",
     "output_type": "stream",
     "text": [
      "caesar cyphers are terribly insecure\n"
     ]
    }
   ],
   "source": [
    "decypher(7)"
   ]
  },
  {
   "cell_type": "code",
   "execution_count": 22,
   "metadata": {
    "collapsed": true
   },
   "outputs": [],
   "source": [
    "cypher('mwhahaha now i am super hax0r',13)"
   ]
  },
  {
   "cell_type": "code",
   "execution_count": 23,
   "metadata": {},
   "outputs": [
    {
     "name": "stdout",
     "output_type": "stream",
     "text": [
      "xgslslslkyzgktklxkce pbkslhkb\n"
     ]
    }
   ],
   "source": [
    "decypher(2)"
   ]
  },
  {
   "cell_type": "code",
   "execution_count": 24,
   "metadata": {},
   "outputs": [
    {
     "name": "stdout",
     "output_type": "stream",
     "text": [
      "nxibibibaopxajabnatvqfsaibyas\n"
     ]
    }
   ],
   "source": [
    "decypher(12)"
   ]
  },
  {
   "cell_type": "code",
   "execution_count": 25,
   "metadata": {},
   "outputs": [
    {
     "name": "stdout",
     "output_type": "stream",
     "text": [
      "mwhahaha now i am super hax r\n"
     ]
    }
   ],
   "source": [
    "decypher(13)"
   ]
  },
  {
   "cell_type": "code",
   "execution_count": null,
   "metadata": {
    "collapsed": true
   },
   "outputs": [],
   "source": []
  }
 ],
 "metadata": {
  "kernelspec": {
   "display_name": "Python 3",
   "language": "python",
   "name": "python3"
  },
  "language_info": {
   "codemirror_mode": {
    "name": "ipython",
    "version": 3
   },
   "file_extension": ".py",
   "mimetype": "text/x-python",
   "name": "python",
   "nbconvert_exporter": "python",
   "pygments_lexer": "ipython3",
   "version": "3.5.2"
  }
 },
 "nbformat": 4,
 "nbformat_minor": 2
}

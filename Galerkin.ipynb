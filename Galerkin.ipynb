{
 "cells": [
  {
   "cell_type": "code",
   "execution_count": 2,
   "metadata": {
    "collapsed": true
   },
   "outputs": [],
   "source": [
    "import numpy as np"
   ]
  },
  {
   "cell_type": "code",
   "execution_count": 3,
   "metadata": {},
   "outputs": [],
   "source": [
    "N = 100\n",
    "b = 1\n",
    "a = -1\n",
    "quad_xi = np.cos(np.pi*(1-np.linspace(0,1,N+1)))\n",
    "quad_wi = np.pi/N*(1-quad_xi**2)**0.5\n",
    "xi = a+(b-a)*quad_xi"
   ]
  },
  {
   "cell_type": "code",
   "execution_count": 20,
   "metadata": {},
   "outputs": [
    {
     "data": {
      "text/plain": [
       "20.997285661901756"
      ]
     },
     "execution_count": 20,
     "metadata": {},
     "output_type": "execute_result"
    }
   ],
   "source": [
    "sum(quad_wi*(0.5*quad_xi+1.5)**5)\n"
   ]
  },
  {
   "cell_type": "code",
   "execution_count": 10,
   "metadata": {},
   "outputs": [
    {
     "data": {
      "text/plain": [
       "1.9994018722047999"
      ]
     },
     "execution_count": 10,
     "metadata": {},
     "output_type": "execute_result"
    }
   ],
   "source": [
    "sum(quad_wi*np.cos((0.5*quad_xi)**4))"
   ]
  },
  {
   "cell_type": "code",
   "execution_count": 88,
   "metadata": {},
   "outputs": [
    {
     "data": {
      "text/plain": [
       "array([-1.        , -0.99999507, -0.99998026, ...,  0.99998026,\n",
       "        0.99999507,  1.        ])"
      ]
     },
     "execution_count": 88,
     "metadata": {},
     "output_type": "execute_result"
    }
   ],
   "source": [
    "quad_xi"
   ]
  },
  {
   "cell_type": "code",
   "execution_count": 82,
   "metadata": {},
   "outputs": [
    {
     "data": {
      "text/plain": [
       "array([ 0.        ,  0.03141076,  0.06279052,  0.09410831,  0.12533323,\n",
       "        0.15643447,  0.18738131,  0.21814324,  0.24868989,  0.27899111,\n",
       "        0.30901699,  0.33873792,  0.36812455,  0.39714789,  0.42577929,\n",
       "        0.4539905 ,  0.48175367,  0.50904142,  0.53582679,  0.56208338,\n",
       "        0.58778525,  0.61290705,  0.63742399,  0.66131187,  0.68454711,\n",
       "        0.70710678,  0.72896863,  0.75011107,  0.77051324,  0.79015501,\n",
       "        0.80901699,  0.82708057,  0.84432793,  0.86074203,  0.87630668,\n",
       "        0.89100652,  0.90482705,  0.91775463,  0.92977649,  0.94088077,\n",
       "        0.95105652,  0.96029369,  0.96858316,  0.97591676,  0.98228725,\n",
       "        0.98768834,  0.9921147 ,  0.99556196,  0.99802673,  0.99950656,\n",
       "        1.        ,  0.99950656,  0.99802673,  0.99556196,  0.9921147 ,\n",
       "        0.98768834,  0.98228725,  0.97591676,  0.96858316,  0.96029369,\n",
       "        0.95105652,  0.94088077,  0.92977649,  0.91775463,  0.90482705,\n",
       "        0.89100652,  0.87630668,  0.86074203,  0.84432793,  0.82708057,\n",
       "        0.80901699,  0.79015501,  0.77051324,  0.75011107,  0.72896863,\n",
       "        0.70710678,  0.68454711,  0.66131187,  0.63742399,  0.61290705,\n",
       "        0.58778525,  0.56208338,  0.53582679,  0.50904142,  0.48175367,\n",
       "        0.4539905 ,  0.42577929,  0.39714789,  0.36812455,  0.33873792,\n",
       "        0.30901699,  0.27899111,  0.24868989,  0.21814324,  0.18738131,\n",
       "        0.15643447,  0.12533323,  0.09410831,  0.06279052,  0.03141076,  0.        ])"
      ]
     },
     "execution_count": 82,
     "metadata": {},
     "output_type": "execute_result"
    }
   ],
   "source": [
    "quad_wi"
   ]
  },
  {
   "cell_type": "code",
   "execution_count": null,
   "metadata": {
    "collapsed": true
   },
   "outputs": [],
   "source": []
  }
 ],
 "metadata": {
  "kernelspec": {
   "display_name": "Python 3",
   "language": "python",
   "name": "python3"
  },
  "language_info": {
   "codemirror_mode": {
    "name": "ipython",
    "version": 3
   },
   "file_extension": ".py",
   "mimetype": "text/x-python",
   "name": "python",
   "nbconvert_exporter": "python",
   "pygments_lexer": "ipython3",
   "version": "3.5.2"
  }
 },
 "nbformat": 4,
 "nbformat_minor": 2
}

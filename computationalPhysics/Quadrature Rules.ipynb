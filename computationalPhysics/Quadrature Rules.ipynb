{
 "cells": [
  {
   "cell_type": "markdown",
   "metadata": {},
   "source": [
    "# Quadrature Rules\n",
    "In this notebook we're going to set out to examine a couple of quadrature rules i.e. numerical intergration."
   ]
  },
  {
   "cell_type": "code",
   "execution_count": 1,
   "metadata": {
    "collapsed": true
   },
   "outputs": [],
   "source": [
    "import numpy as np\n",
    "\n",
    "def riemann(f,a,b,N):\n",
    "    \"\"\"The simple and not so good Riemann sum approach we know and love to integrate f from a to b with N rectangles\"\"\"\n",
    "    x_i = np.linspace(a,b,N)\n",
    "    return(sum(f(x_i)*(b-a)/N))"
   ]
  },
  {
   "cell_type": "code",
   "execution_count": 2,
   "metadata": {},
   "outputs": [
    {
     "data": {
      "text/plain": [
       "0.33501683501683505"
      ]
     },
     "execution_count": 2,
     "metadata": {},
     "output_type": "execute_result"
    }
   ],
   "source": [
    "riemann(lambda x: x**2, 0, 1, 100)"
   ]
  },
  {
   "cell_type": "markdown",
   "metadata": {},
   "source": [
    "Haha! It works! We just demonstrated a Riemann sum to approximate the integral $\\int_{0}^{1} x^2 dx$ which is exactly equal to $\\frac{1}{3}$"
   ]
  },
  {
   "cell_type": "code",
   "execution_count": 3,
   "metadata": {
    "collapsed": true
   },
   "outputs": [],
   "source": [
    "def trapezoids(f,a,b,N):\n",
    "    \"\"\"The trapezoid method will vastly improve our approximation by using trapezoid slices instead of rectangles\"\"\"\n",
    "    x_i = np.linspace(a,b,N+1) ## we need one more point because each trapezoid takes two heights\n",
    "    f_i = f(x_i)\n",
    "    f_av = np.zeros(N) ## averaged values of f_i for trapezoid rule\n",
    "    for i in range(0,N):\n",
    "        f_av[i] = (f_i[i]+f_i[i+1])/2\n",
    "    return(sum(f_av*(b-a)/N))"
   ]
  },
  {
   "cell_type": "code",
   "execution_count": 4,
   "metadata": {},
   "outputs": [
    {
     "data": {
      "text/plain": [
       "0.33334999999999998"
      ]
     },
     "execution_count": 4,
     "metadata": {},
     "output_type": "execute_result"
    }
   ],
   "source": [
    "trapezoids(lambda x: x**2, 0, 1, 100)"
   ]
  },
  {
   "cell_type": "markdown",
   "metadata": {},
   "source": [
    "That looks a lot closer to the actual value! But... We can do better! There's a method called Simpson's rule that uses parabolas fitted to three points to approximate the integral, and it should give us an even more accurate answer."
   ]
  },
  {
   "cell_type": "code",
   "execution_count": 5,
   "metadata": {
    "collapsed": true
   },
   "outputs": [],
   "source": [
    "def simpson(f,a,b,N):\n",
    "    \"\"\"Simpson's rule rules\"\"\"\n",
    "    if(N%2!=0): ## Simpson's rule works best if N is even\n",
    "        N+=1\n",
    "    x_i = np.linspace(a,b,N) ## we need two more points because parabolas are defined by three points\n",
    "    f_i = f(x_i)\n",
    "    f_par = []\n",
    "    for i in range(0,N,2): ## We only want the even indices\n",
    "        f_par.append((f_i[i-1]+4*f_i[i]+f_i[i+1])/3)\n",
    "    return(sum(f_par)*(b-a)/N)"
   ]
  },
  {
   "cell_type": "code",
   "execution_count": 6,
   "metadata": {},
   "outputs": [
    {
     "data": {
      "text/plain": [
       "0.33333333333333343"
      ]
     },
     "execution_count": 6,
     "metadata": {},
     "output_type": "execute_result"
    }
   ],
   "source": [
    "simpson(lambda x: x**2, 0, 1, 100)"
   ]
  },
  {
   "cell_type": "markdown",
   "metadata": {},
   "source": [
    "Well that looks like it's basically exactly what we want! I've also got an entirely different rule that takes all sorts of crazy weights, and it's supposed to be crazy accurate. It's called Chebyshev-Gauss Quadrature. Check it out!"
   ]
  },
  {
   "cell_type": "code",
   "execution_count": 7,
   "metadata": {
    "collapsed": true
   },
   "outputs": [],
   "source": [
    "def cg_integrate(f,a,b,N):\n",
    "    \"\"\"integrates f using Chebyshev-Gauss Quadrature\"\"\"\n",
    "    xi = np.cos(np.pi*(1-np.linspace(0,1,N+1))) ## [-1,1] Chebyshev points\n",
    "    wi = np.pi/N*(1-xi**2)**0.5 ## weights\n",
    "    xi = a+(b-a)*(xi+1.0)/2.0 ## mapping to interval [a,b]\n",
    "    wi*=(b-a)/2.0 ## adjusting weights to reflect mapped domain\n",
    "    return(sum(wi*f(xi)))"
   ]
  },
  {
   "cell_type": "code",
   "execution_count": 8,
   "metadata": {},
   "outputs": [
    {
     "data": {
      "text/plain": [
       "0.33329220727536107"
      ]
     },
     "execution_count": 8,
     "metadata": {},
     "output_type": "execute_result"
    }
   ],
   "source": [
    "cg_integrate(lambda x: x**2, 0,1, 100)"
   ]
  },
  {
   "cell_type": "markdown",
   "metadata": {},
   "source": [
    "Let's use the fact that $\\int_{0}^{\\pi}\\sin(x)dx = 2$ to test all of our quadrature rules for various N."
   ]
  },
  {
   "cell_type": "code",
   "execution_count": 9,
   "metadata": {
    "collapsed": true
   },
   "outputs": [],
   "source": [
    "r_vals=[]\n",
    "t_vals=[]\n",
    "s_vals=[]\n",
    "cg_vals=[]\n",
    "for i in [2**n for n in range(0,12)]:\n",
    "    r_vals.append(riemann(lambda x: np.sin(x), 0, np.pi, i))\n",
    "    t_vals.append(trapezoids(lambda x: np.sin(x), 0, np.pi, i))\n",
    "    s_vals.append(simpson(lambda x: np.sin(x), 0, np.pi, i))\n",
    "    cg_vals.append(cg_integrate(lambda x: np.sin(x), 0, np.pi, i))"
   ]
  },
  {
   "cell_type": "code",
   "execution_count": 10,
   "metadata": {},
   "outputs": [],
   "source": [
    "import matplotlib.pyplot as plt"
   ]
  },
  {
   "cell_type": "code",
   "execution_count": 11,
   "metadata": {},
   "outputs": [
    {
     "data": {
      "image/png": "[encoded data removed]",
      "text/plain": [
       "<matplotlib.figure.Figure at 0x7fb4b95919e8>"
      ]
     },
     "metadata": {},
     "output_type": "display_data"
    }
   ],
   "source": [
    "plt.plot(range(0,12),r_vals, label=\"riemann\")\n",
    "plt.plot(range(0,12),t_vals, label=\"trapezoid\")\n",
    "plt.plot(range(0,12),s_vals, label=\"simpson\")\n",
    "plt.plot(range(0,12),cg_vals, label=\"chebyshev\")\n",
    "# Place a legend to the right of this smaller subplot.\n",
    "plt.legend(bbox_to_anchor=(1.05, 1), loc=2, borderaxespad=0.)\n",
    "plt.show()"
   ]
  },
  {
   "cell_type": "markdown",
   "metadata": {},
   "source": [
    "We can easily tell from this that trapezoid or chebyshev is our best. Curiously, Simpson's method and the Riemann sum are identical."
   ]
  },
  {
   "cell_type": "code",
   "execution_count": 12,
   "metadata": {},
   "outputs": [],
   "source": [
    "r_err=[]\n",
    "t_err=[]\n",
    "s_err=[]\n",
    "cg_err=[]\n",
    "for i in range(5,12):\n",
    "    r_err.append((r_vals[i]-2)/2)\n",
    "    t_err.append((t_vals[i]-2)/2)\n",
    "    s_err.append((s_vals[i]-2)/2)\n",
    "    cg_err.append((cg_vals[i]-2)/2)"
   ]
  },
  {
   "cell_type": "code",
   "execution_count": 13,
   "metadata": {},
   "outputs": [
    {
     "data": {
      "image/png": "[encoded data removed]",
      "text/plain": [
       "<matplotlib.figure.Figure at 0x7fb4b60994e0>"
      ]
     },
     "metadata": {},
     "output_type": "display_data"
    }
   ],
   "source": [
    "plt.plot(range(5,12),r_err, label=\"riemann\")\n",
    "plt.plot(range(5,12),t_err, label=\"trapezoid\")\n",
    "plt.plot(range(5,12),s_err, label=\"simpson\")\n",
    "plt.plot(range(5,12),cg_err, label=\"chebyshev\")\n",
    "# Place a legend to the right of this smaller subplot.\n",
    "plt.legend(bbox_to_anchor=(1.05, 1), loc=2, borderaxespad=0.)\n",
    "plt.show()"
   ]
  },
  {
   "cell_type": "code",
   "execution_count": 14,
   "metadata": {},
   "outputs": [
    {
     "data": {
      "text/plain": [
       "[9.5614671602461954e-07,\n",
       " 5.9708006094894017e-08,\n",
       " 3.7309488831738236e-09,\n",
       " 2.3317170416703448e-10,\n",
       " 1.457389764425443e-11,\n",
       " 9.1060492479755339e-13,\n",
       " 5.5067062021407764e-14]"
      ]
     },
     "execution_count": 14,
     "metadata": {},
     "output_type": "execute_result"
    }
   ],
   "source": [
    "cg_err"
   ]
  },
  {
   "cell_type": "code",
   "execution_count": 15,
   "metadata": {},
   "outputs": [
    {
     "data": {
      "text/plain": [
       "[-0.00080331951492784714,\n",
       " -0.00020080567998126408,\n",
       " -5.0199907898673679e-05,\n",
       " -1.2549882473456009e-05,\n",
       " -3.1374647121440447e-06,\n",
       " -7.8436580963625602e-07,\n",
       " -1.9609142865029128e-07]"
      ]
     },
     "execution_count": 15,
     "metadata": {},
     "output_type": "execute_result"
    }
   ],
   "source": [
    "t_err"
   ]
  },
  {
   "cell_type": "markdown",
   "metadata": {},
   "source": [
    "At only 32 divisions Chebyshev-Gauss hit the same order of accuracy that the trapezoid rule hits by N=1024 divsions of the domain. Chebyshev-Gauss is a clear winner!"
   ]
  },
  {
   "cell_type": "code",
   "execution_count": null,
   "metadata": {
    "collapsed": true
   },
   "outputs": [],
   "source": []
  }
 ],
 "metadata": {
  "kernelspec": {
   "display_name": "Python 3",
   "language": "python",
   "name": "python3"
  },
  "language_info": {
   "codemirror_mode": {
    "name": "ipython",
    "version": 3
   },
   "file_extension": ".py",
   "mimetype": "text/x-python",
   "name": "python",
   "nbconvert_exporter": "python",
   "pygments_lexer": "ipython3",
   "version": "3.5.2"
  }
 },
 "nbformat": 4,
 "nbformat_minor": 2
}

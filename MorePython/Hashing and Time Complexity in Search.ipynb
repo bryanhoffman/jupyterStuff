{
 "cells": [
  {
   "cell_type": "markdown",
   "metadata": {},
   "source": [
    "# Hashing and Time Complexity in Search"
   ]
  },
  {
   "cell_type": "markdown",
   "metadata": {},
   "source": [
    "The goal herein is to explore time complexities of the form $O(n^k)$ where $k$ is in the range $0 \\leq k < 1$.\n",
    "In particular the idea explored will be hashing. We will write some custom hashes and explore the relation between memory and time complexity in look-up. "
   ]
  },
  {
   "cell_type": "code",
   "execution_count": 6,
   "metadata": {},
   "outputs": [],
   "source": [
    "class MyHashTable(object):\n",
    "    \"\"\"creates a dictionary to perform look-ups i.e. search on randomly generated integers\"\"\"\n",
    "    def __init__(self, size):\n",
    "        \"\"\"makes empty array\"\"\"\n",
    "        self.size = size\n",
    "        self.hashes = []\n",
    "        for i in range(0, size):\n",
    "            self.hashes.append([])\n",
    "        \n",
    "    def addHash(self, key, entry):\n",
    "        \"\"\"adds values to array\"\"\"\n",
    "        myHash = key%self.size\n",
    "        self.hashes[myHash].append([key, entry])\n",
    "        \n",
    "    def getEntryByHash(self, key):\n",
    "        \"\"\"retrieves the entry based on provided key\"\"\"\n",
    "        matches = self.hashes[key%self.size]\n",
    "        for i in range(len(matches)): ## Search over matching hashes\n",
    "            if matches[i][0] == key:\n",
    "                return matches[i][1]\n",
    "    "
   ]
  },
  {
   "cell_type": "code",
   "execution_count": 7,
   "metadata": {
    "collapsed": true
   },
   "outputs": [],
   "source": [
    "myTable = MyHashTable(100)"
   ]
  },
  {
   "cell_type": "code",
   "execution_count": 8,
   "metadata": {
    "collapsed": true
   },
   "outputs": [],
   "source": [
    "myTable.addHash(137273,0)"
   ]
  },
  {
   "cell_type": "code",
   "execution_count": 9,
   "metadata": {},
   "outputs": [
    {
     "data": {
      "text/plain": [
       "[[137273, 0]]"
      ]
     },
     "execution_count": 9,
     "metadata": {},
     "output_type": "execute_result"
    }
   ],
   "source": [
    "myTable.hashes[137273%100]"
   ]
  },
  {
   "cell_type": "code",
   "execution_count": 11,
   "metadata": {},
   "outputs": [
    {
     "data": {
      "text/plain": [
       "0"
      ]
     },
     "execution_count": 11,
     "metadata": {},
     "output_type": "execute_result"
    }
   ],
   "source": [
    "myTable.getEntryByHash(137273)"
   ]
  },
  {
   "cell_type": "code",
   "execution_count": 12,
   "metadata": {
    "collapsed": true
   },
   "outputs": [],
   "source": [
    "import random\n",
    "\n",
    "def newTable(N_entries, N_hashes):\n",
    "    \"\"\"Makes a MyHashTable object\"\"\"\n",
    "    myTable = MyHashTable(N_hashes)\n",
    "    for i in range(0,N_entries):\n",
    "        key = random.randint(0,10**6)\n",
    "        myTable.addHash(key,i)\n",
    "    return myTable"
   ]
  },
  {
   "cell_type": "code",
   "execution_count": 13,
   "metadata": {
    "collapsed": true
   },
   "outputs": [],
   "source": [
    "table0 = newTable(100,100)"
   ]
  },
  {
   "cell_type": "code",
   "execution_count": 16,
   "metadata": {},
   "outputs": [
    {
     "data": {
      "text/plain": [
       "[[[863900, 23]],\n",
       " [[964101, 38]],\n",
       " [[299202, 24], [587502, 54]],\n",
       " [[73103, 84]],\n",
       " [[762904, 90]],\n",
       " [[713305, 53]],\n",
       " [[624706, 35]],\n",
       " [[527007, 3]],\n",
       " [[577908, 95]],\n",
       " [[558909, 14], [912409, 70]],\n",
       " [],\n",
       " [],\n",
       " [[507412, 31]],\n",
       " [],\n",
       " [],\n",
       " [[221715, 5], [288015, 58], [653315, 63], [107515, 87]],\n",
       " [[101016, 47]],\n",
       " [],\n",
       " [],\n",
       " [],\n",
       " [],\n",
       " [],\n",
       " [[290422, 12]],\n",
       " [[756423, 64]],\n",
       " [],\n",
       " [[684325, 22]],\n",
       " [],\n",
       " [],\n",
       " [],\n",
       " [[223929, 65]],\n",
       " [[988030, 43], [486130, 72]],\n",
       " [[583531, 10]],\n",
       " [[381832, 89]],\n",
       " [[947533, 2], [501533, 45], [200233, 69], [526933, 79]],\n",
       " [[137934, 28], [389534, 59]],\n",
       " [[477835, 94]],\n",
       " [],\n",
       " [[43437, 42]],\n",
       " [[994038, 29], [937438, 74], [265538, 86]],\n",
       " [[737339, 39], [139339, 49]],\n",
       " [[883040, 82]],\n",
       " [[151441, 88]],\n",
       " [[395442, 76], [975142, 80]],\n",
       " [],\n",
       " [],\n",
       " [[623245, 9], [221345, 18], [112145, 71]],\n",
       " [[536846, 52], [946, 67], [177946, 73]],\n",
       " [],\n",
       " [[939748, 44]],\n",
       " [[644649, 81]],\n",
       " [],\n",
       " [[713951, 17], [949151, 55], [2851, 98]],\n",
       " [[203952, 6], [427652, 50], [946952, 60]],\n",
       " [],\n",
       " [],\n",
       " [[250155, 26]],\n",
       " [[516356, 33]],\n",
       " [],\n",
       " [],\n",
       " [[356859, 77]],\n",
       " [[178860, 83]],\n",
       " [[767561, 21]],\n",
       " [[448262, 40]],\n",
       " [[781863, 16], [387063, 61]],\n",
       " [],\n",
       " [],\n",
       " [[89366, 57]],\n",
       " [[710267, 8], [1167, 56]],\n",
       " [[358068, 97]],\n",
       " [],\n",
       " [[393670, 51]],\n",
       " [[140971, 27]],\n",
       " [[715772, 4], [681272, 15], [721672, 19]],\n",
       " [[228573, 1]],\n",
       " [[818574, 0], [257674, 25], [202574, 36]],\n",
       " [],\n",
       " [],\n",
       " [[643877, 37]],\n",
       " [],\n",
       " [],\n",
       " [[679880, 30], [146980, 99]],\n",
       " [],\n",
       " [],\n",
       " [],\n",
       " [[236284, 62]],\n",
       " [[785085, 20], [496585, 85]],\n",
       " [[491286, 68]],\n",
       " [[545787, 41]],\n",
       " [[689488, 32]],\n",
       " [[241089, 11], [150889, 75]],\n",
       " [[996090, 93]],\n",
       " [[909191, 66]],\n",
       " [[536292, 91]],\n",
       " [[750493, 34]],\n",
       " [],\n",
       " [],\n",
       " [],\n",
       " [[853097, 7], [184397, 13], [36597, 46], [584697, 48], [788797, 78]],\n",
       " [[239098, 92]],\n",
       " [[669699, 96]]]"
      ]
     },
     "execution_count": 16,
     "metadata": {},
     "output_type": "execute_result"
    }
   ],
   "source": [
    "table0.hashes ## Bad practice to break abstraction layer, but... I'm gonna do it anyway :P"
   ]
  },
  {
   "cell_type": "markdown",
   "metadata": {},
   "source": [
    "Note that because we made the table with equal amounts of hashes and entries, in the best case scenario it would be one to one, but for each and every empty hash value, there's a corresponding collision. If you're familiar with hash collisions in cryptographic terms, this is not nearly as detrimental. These collisions just mean that we need to run a conventional $O(n)$ search on a subset of what we'd be searching without a hash table. Fortunately it's nothing like finding a SHA1 collision!\n",
    "\n",
    "As the amount of memory we allocate to allow for hashed values being stored increases, the run time of our search will approach $O(1)$. In the case that we allow a single hash, we are performing a normal search of time complexity $O(n)$. Between these cases we're looking at time complexities of the form $O(n^k)$ where $k$ is in the range $0 \\leq k < 1$. Let's try now to calculate what k is from the ratio N_entries and N_hashes."
   ]
  },
  {
   "cell_type": "code",
   "execution_count": 18,
   "metadata": {},
   "outputs": [
    {
     "data": {
      "text/plain": [
       "54"
      ]
     },
     "execution_count": 18,
     "metadata": {},
     "output_type": "execute_result"
    }
   ],
   "source": [
    "## I'm going to be breaking the abstraction barrier a lot... sorry\n",
    "table0.getEntryByHash(587502)"
   ]
  },
  {
   "cell_type": "markdown",
   "metadata": {},
   "source": [
    "In that key, val pair we searched over a list of 2 items. In general we're only going to be looking at the hashes correspond to non-empty lists. The important factor is the expected length or number of entries in each non-empty list."
   ]
  },
  {
   "cell_type": "code",
   "execution_count": 30,
   "metadata": {},
   "outputs": [],
   "source": [
    "countTotal = 0\n",
    "countHashes = 0\n",
    "for i in range(len(table0.hashes)):\n",
    "    if table0.hashes[i]:\n",
    "        countHashes+=1\n",
    "        for j in range(len(table0.hashes[i])):\n",
    "            countTotal+=1\n",
    "    "
   ]
  },
  {
   "cell_type": "code",
   "execution_count": 33,
   "metadata": {},
   "outputs": [
    {
     "data": {
      "text/plain": [
       "100"
      ]
     },
     "execution_count": 33,
     "metadata": {},
     "output_type": "execute_result"
    }
   ],
   "source": [
    "countTotal ## A little pedantic perhaps?"
   ]
  },
  {
   "cell_type": "code",
   "execution_count": 35,
   "metadata": {},
   "outputs": [
    {
     "data": {
      "text/plain": [
       "1.5384615384615385"
      ]
     },
     "execution_count": 35,
     "metadata": {},
     "output_type": "execute_result"
    }
   ],
   "source": [
    "ratio = countTotal/countHashes\n",
    "ratio"
   ]
  },
  {
   "cell_type": "markdown",
   "metadata": {},
   "source": [
    "So this means that the expected length of the list we'll have to search over is a mere ~1.5 entries long. This means that  we're fairly close to constant time look-ups with the ratio of N_entries and N_hashes near 1."
   ]
  },
  {
   "cell_type": "code",
   "execution_count": 63,
   "metadata": {
    "collapsed": true
   },
   "outputs": [],
   "source": [
    "## Lets set N_entries at 10,000 and check it for N_hashes/N_entries = 0.05, 0.1, ... 1.0, 1.05, ... &c.\n",
    "r_s = [0.05*x for x in range(1,41)]"
   ]
  },
  {
   "cell_type": "code",
   "execution_count": 60,
   "metadata": {},
   "outputs": [],
   "source": [
    "expR = []\n",
    "for i in range(len(r_s)):\n",
    "    N_entries = 10000\n",
    "    myTable = newTable(N_entries,int(N_entries*r_s[i]))\n",
    "    countHashes = 0\n",
    "    for i in range(len(myTable.hashes)):\n",
    "        if myTable.hashes[i]:\n",
    "            countHashes+=1\n",
    "    expR.append(N_entries/countHashes)"
   ]
  },
  {
   "cell_type": "code",
   "execution_count": 48,
   "metadata": {},
   "outputs": [],
   "source": [
    "import matplotlib.pyplot as plt"
   ]
  },
  {
   "cell_type": "code",
   "execution_count": 64,
   "metadata": {},
   "outputs": [
    {
     "data": {
      "image/png": "[encoded data removed]",
      "text/plain": [
       "<matplotlib.figure.Figure at 0x7fa529859518>"
      ]
     },
     "metadata": {},
     "output_type": "display_data"
    }
   ],
   "source": [
    "plt.plot(r_s,expR)\n",
    "plt.show()"
   ]
  },
  {
   "cell_type": "code",
   "execution_count": 65,
   "metadata": {},
   "outputs": [],
   "source": [
    "import math"
   ]
  },
  {
   "cell_type": "code",
   "execution_count": 75,
   "metadata": {},
   "outputs": [],
   "source": [
    "log_exp = []\n",
    "for i in range(len(expR)):\n",
    "    log_exp.append(math.log(expR[i],10000))"
   ]
  },
  {
   "cell_type": "code",
   "execution_count": 76,
   "metadata": {},
   "outputs": [
    {
     "data": {
      "image/png": "[encoded data removed]",
      "text/plain": [
       "<matplotlib.figure.Figure at 0x7fa52981e6a0>"
      ]
     },
     "metadata": {},
     "output_type": "display_data"
    }
   ],
   "source": [
    "plt.plot(r_s,log_exp)\n",
    "plt.show()"
   ]
  },
  {
   "cell_type": "markdown",
   "metadata": {},
   "source": [
    "The figure above gives roughly the $k$ in $O(n^k)$ where the $x$-axis represents the ratio of memory allocated to the number of entries stored in memory. This means that if search is going to be performed on a list of a million keys, a hash table of size 2 million would allow one to perform search in nearly constant time. Incredible!"
   ]
  },
  {
   "cell_type": "code",
   "execution_count": null,
   "metadata": {
    "collapsed": true
   },
   "outputs": [],
   "source": []
  }
 ],
 "metadata": {
  "kernelspec": {
   "display_name": "Python 3",
   "language": "python",
   "name": "python3"
  },
  "language_info": {
   "codemirror_mode": {
    "name": "ipython",
    "version": 3
   },
   "file_extension": ".py",
   "mimetype": "text/x-python",
   "name": "python",
   "nbconvert_exporter": "python",
   "pygments_lexer": "ipython3",
   "version": "3.5.2"
  }
 },
 "nbformat": 4,
 "nbformat_minor": 2
}
